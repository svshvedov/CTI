{
 "cells": [
  {
   "cell_type": "code",
   "execution_count": 2,
   "metadata": {
    "ExecuteTime": {
     "end_time": "2024-03-24T06:45:52.480002Z",
     "start_time": "2024-03-24T06:45:51.477128Z"
    }
   },
   "outputs": [],
   "source": [
    "import re\n",
    "import socket\n",
    "import pandas as pd\n",
    "import requests\n",
    "from bs4 import BeautifulSoup"
   ]
  },
  {
   "cell_type": "code",
   "execution_count": 9,
   "metadata": {
    "ExecuteTime": {
     "end_time": "2024-03-24T07:25:55.819433Z",
     "start_time": "2024-03-24T07:25:55.759519Z"
    }
   },
   "outputs": [],
   "source": [
    "data = pd.read_csv(\"domains.csv\", sep=\";\")\n",
    "#data.head(10)"
   ]
  },
  {
   "cell_type": "code",
   "execution_count": 10,
   "metadata": {
    "ExecuteTime": {
     "end_time": "2024-03-24T07:26:15.963712Z",
     "start_time": "2024-03-24T07:26:15.934993Z"
    }
   },
   "outputs": [
    {
     "data": {
      "text/plain": "0                   1000меню.рф\n1                    24успех.рф\n2                абв-клиника.рф\n3              авто-перекупы.рф\n4    автосервис-старый-оскол.рф\nName: домен2, dtype: object"
     },
     "execution_count": 10,
     "metadata": {},
     "output_type": "execute_result"
    }
   ],
   "source": [
    "domains = data.iloc[:, 2].str.lower()\n",
    "domains.head()"
   ]
  },
  {
   "cell_type": "code",
   "execution_count": 17,
   "metadata": {
    "ExecuteTime": {
     "end_time": "2024-03-24T07:36:05.578889Z",
     "start_time": "2024-03-24T07:36:05.488873Z"
    }
   },
   "outputs": [
    {
     "name": "stdout",
     "output_type": "stream",
     "text": [
      "авито-топ.рф\n",
      "podpiskasber.ru\n",
      "meetup-sberhealth-frontend.ru\n",
      "sber-ins.ru\n",
      "aisberg-store.ru\n",
      "sberkidscity.ru\n",
      "mensberth.ru\n",
      "solomonalsberg.ru\n",
      "sber-biz.ru\n",
      "sbersoftdev.ru\n",
      "sberioglstics.ru\n",
      "sminfacryhosbergco.ru\n"
     ]
    }
   ],
   "source": [
    "for domain in domains:\n",
    "  if re.match(r\".*авито.*|.*sber.*\", domain):\n",
    "    print(domain)"
   ]
  },
  {
   "cell_type": "code",
   "execution_count": 18,
   "metadata": {
    "ExecuteTime": {
     "end_time": "2024-03-24T07:37:39.979203Z",
     "start_time": "2024-03-24T07:37:39.889215Z"
    }
   },
   "outputs": [
    {
     "data": {
      "text/plain": "['меетуп-сберхеалтх-фронтенд.рф',\n 'авито-топ.рф',\n 'avito-message.ru',\n 'avito-messages.ru',\n 'avito-sells.ru',\n 'avitosell.ru',\n 'avitosells.ru',\n 'podpiskasber.ru',\n 'prof-avitolog.ru',\n 'sells-avito.ru',\n 'kupit-otzivi-avito.ru',\n 'meetup-sberhealth-frontend.ru',\n 'nakrutka-avito.ru',\n 'sber-ins.ru',\n 'aisberg-store.ru',\n 'avito-automarketolog.ru',\n 'ryazantsevaproavito.ru',\n 'sberkidscity.ru',\n 'avito-id274653.ru',\n 'avito-otzivi.ru',\n 'avito-scn.ru',\n 'avitolog31.ru',\n 'mensberth.ru',\n 'avito-id82991.ru',\n 'avito-note.ru',\n 'avito-notes.ru',\n 'avito-notification.ru',\n 'avito-notifications.ru',\n 'solomonalsberg.ru',\n 'avito-lifehack.ru',\n 'proavitologkurs-bot.ru',\n 'profavito.ru',\n 'sber-biz.ru',\n 'sbersoftdev.ru',\n 'tvoyavitolog.ru',\n 'sberioglstics.ru',\n 'sminfacryhosbergco.ru']"
     },
     "execution_count": 18,
     "metadata": {},
     "output_type": "execute_result"
    }
   ],
   "source": [
    "def filter_domains(domains: list, regular_expression: str):\n",
    "  return [domain for domain in domains if re.match(regular_expression, domain)]\n",
    "\n",
    "vtb_regex = r\".*vtb.*\"\n",
    "full_regex = r\".*avito.*|.*авито.*|.*sber.*|.*сбер.*\"\n",
    "filtered_domains = filter_domains(domains, full_regex)\n",
    "filtered_domains"
   ]
  },
  {
   "cell_type": "code",
   "execution_count": 19,
   "metadata": {
    "ExecuteTime": {
     "end_time": "2024-03-24T07:38:21.353378Z",
     "start_time": "2024-03-24T07:38:21.337496Z"
    }
   },
   "outputs": [],
   "source": [
    "def send_response(domain: str) -> requests.Response:\n",
    "  try:\n",
    "    response = requests.get(\"https://\" + domain, timeout=1)\n",
    "    return response\n",
    "  except Exception:\n",
    "    pass\n",
    "\n",
    "  try:\n",
    "    response = requests.get(\"http://\" + domain, timeout=1)\n",
    "    return response\n",
    "  except Exception:\n",
    "    pass\n",
    "\n",
    "  return 'Error'\n",
    "\n",
    "def get_status_code(response: requests.Response) -> int:\n",
    "  if isinstance(response, requests.Response):\n",
    "    return response.status_code\n",
    "  else:\n",
    "    return \"Error\"\n",
    "  \n",
    "def get_title(response: requests.Response) -> str:\n",
    "\n",
    "  if isinstance(response, requests.Response):\n",
    "      soup = BeautifulSoup(response.text, 'html.parser') \n",
    "\n",
    "      title_tag = soup.find('title')\n",
    "\n",
    "      if title_tag:\n",
    "        title = title_tag.text\n",
    "        return title\n",
    "      else:\n",
    "        return \"Title not found\"\n",
    "      \n",
    "  else:\n",
    "    return \"Error\"\n",
    "  \n",
    "def get_redirect(response: requests.Response) -> list[str]:\n",
    "  redirects = []\n",
    "  if isinstance(response, requests.Response):\n",
    "      if response.history:\n",
    "        for resp in response.history:\n",
    "          redirects.append([resp.status_code, resp.url])\n",
    "  return redirects\n",
    "\n",
    "def get_ip(domain: str) -> str:\n",
    "  try:\n",
    "    ip_address = socket.gethostbyname(domain)\n",
    "    return ip_address\n",
    "  \n",
    "  except Exception as e:\n",
    "    return \"Error\"\n",
    "  \n",
    "def get_whois_info(domain: str) -> list[str]:\n",
    "  rst_whois_apikey = \"wzsGdJ9nstr74EVdlAaaCjPP9vZWv0so5GLk2wwbt1P0yGLv1jWMzg\"\n",
    "\n",
    "  headers = {\n",
    "      'accept': 'application/json',\n",
    "      'x-api-key': rst_whois_apikey,\n",
    "  }\n",
    "\n",
    "  response = requests.get(f'https://api.rstcloud.net/v1/whois/{domain}', headers=headers)\n",
    "\n",
    "  if response.status_code == 200:\n",
    "    whois_data = response.json()\n",
    "    return whois_data.get('created_on'), whois_data.get(\"registrar\")\n",
    "  else:\n",
    "    return \"Unknown\", \"Unknown\"\n",
    "  \n",
    "def get_info_about_domain(domain: str):\n",
    "  response = send_response(domain)\n",
    "  status_code = get_status_code(response)\n",
    "  title = get_title(response)\n",
    "  redirects = get_redirect(response)\n",
    "  ip = get_ip(domain)\n",
    "  created_on, registrar = get_whois_info(domain)\n",
    "  return domain, status_code, title, redirects, ip, created_on, registrar"
   ]
  },
  {
   "cell_type": "code",
   "execution_count": null,
   "metadata": {
    "ExecuteTime": {
     "start_time": "2024-03-24T06:41:25.264585Z"
    }
   },
   "outputs": [],
   "source": [
    "get_info_about_domain(\"google.com\")"
   ]
  },
  {
   "cell_type": "code",
   "execution_count": 20,
   "metadata": {
    "ExecuteTime": {
     "end_time": "2024-03-24T07:40:05.732071Z",
     "start_time": "2024-03-24T07:38:41.639420Z"
    }
   },
   "outputs": [
    {
     "data": {
      "text/plain": "[('меетуп-сберхеалтх-фронтенд.рф',\n  200,\n  'Хостинг-провайдер TimeWeb.ru | Мы рады приветствовать Вас среди наших клиентов!',\n  [],\n  '92.53.96.244',\n  'Unknown',\n  'Unknown'),\n ('авито-топ.рф', 403, '403', [], '185.215.4.41', 'Unknown', 'Unknown'),\n ('avito-message.ru',\n  204,\n  'Title not found',\n  [],\n  '104.21.96.52',\n  '2024-03-16 18:53:20',\n  'unknown'),\n ('avito-messages.ru',\n  204,\n  'Title not found',\n  [],\n  '104.21.20.241',\n  '2024-03-16 18:53:20',\n  'unknown'),\n ('avito-sells.ru',\n  204,\n  'Title not found',\n  [],\n  '104.21.67.213',\n  '2024-03-16 18:53:20',\n  'unknown'),\n ('avitosell.ru',\n  204,\n  'Title not found',\n  [],\n  '172.67.139.153',\n  '2024-03-16 18:53:20',\n  'unknown'),\n ('avitosells.ru',\n  204,\n  'Title not found',\n  [],\n  '172.67.163.186',\n  '2024-03-16 18:53:20',\n  'unknown'),\n ('podpiskasber.ru',\n  'Error',\n  'Error',\n  [],\n  'Error',\n  '2024-03-16 05:32:07',\n  'unknown'),\n ('prof-avitolog.ru',\n  'Error',\n  'Error',\n  [],\n  'Error',\n  '2024-03-16 15:31:21',\n  'unknown'),\n ('sells-avito.ru',\n  204,\n  'Title not found',\n  [],\n  '104.21.47.233',\n  '2024-03-16 18:53:20',\n  'unknown'),\n ('kupit-otzivi-avito.ru',\n  'Error',\n  'Error',\n  [],\n  'Error',\n  '2024-03-18 07:29:50',\n  'unknown'),\n ('meetup-sberhealth-frontend.ru',\n  200,\n  'Хостинг-провайдер TimeWeb.ru | Мы рады приветствовать Вас среди наших клиентов!',\n  [],\n  '92.53.96.244',\n  '2024-03-18 12:30:33',\n  'unknown'),\n ('nakrutka-avito.ru',\n  200,\n  '\\n\\t\\t\\tНакрутка отзывов на Авито\\t\\t',\n  [],\n  '45.130.41.119',\n  '2024-03-18 07:08:04',\n  'unknown'),\n ('sber-ins.ru',\n  200,\n  'Ð¡Ð°Ð¹Ñ\\x82 Ð½Ð°Ð´Ñ\\x91Ð¶Ð½Ð¾ Ð¿Ñ\\x80Ð¸Ð¿Ð°Ñ\\x80ÐºÐ¾Ð²Ð°Ð½ Ð¸\\xa0Ð¾Ð¶Ð¸Ð´Ð°ÐµÑ\\x82 Ð¾Ñ\\x82ÐºÑ\\x80Ñ\\x8bÑ\\x82Ð¸Ñ\\x8f',\n  [],\n  '37.140.192.232',\n  '2024-03-18 15:35:49',\n  'unknown'),\n ('aisberg-store.ru',\n  200,\n  'АЙСБЕРГ - Официальный Сайт Маркетплейс АЙСБЕРГ в России.',\n  [],\n  '194.87.237.81',\n  '2024-03-19 07:15:19',\n  'unknown'),\n ('avito-automarketolog.ru',\n  200,\n  'Не опубликован',\n  [],\n  '195.24.68.21',\n  '2024-03-19 09:10:26',\n  'unknown'),\n ('ryazantsevaproavito.ru',\n  403,\n  '403 Forbidden',\n  [],\n  '185.215.4.32',\n  '2024-03-19 10:47:36',\n  'unknown'),\n ('sberkidscity.ru',\n  'Error',\n  'Error',\n  [],\n  'Error',\n  '2024-03-19 14:12:05',\n  'unknown'),\n ('avito-id274653.ru',\n  'Error',\n  'Error',\n  [],\n  'Error',\n  '2024-03-20 20:32:20',\n  'unknown'),\n ('avito-otzivi.ru',\n  200,\n  'avito-otzivi.ru',\n  [],\n  '185.137.235.190',\n  '2024-03-20 11:04:21',\n  'unknown'),\n ('avito-scn.ru',\n  'Error',\n  'Error',\n  [],\n  'Error',\n  '2024-03-20 15:01:19',\n  'unknown'),\n ('avitolog31.ru',\n  'Error',\n  'Error',\n  [],\n  'Error',\n  '2024-03-20 07:26:50',\n  'unknown'),\n ('mensberth.ru',\n  403,\n  '403',\n  [],\n  '185.215.4.25',\n  '2024-03-20 19:12:22',\n  'unknown'),\n ('avito-id82991.ru',\n  'Error',\n  'Error',\n  [],\n  'Error',\n  '2024-03-20 21:25:33',\n  'unknown'),\n ('avito-note.ru',\n  204,\n  'Title not found',\n  [],\n  '172.67.168.51',\n  '2024-03-21 13:30:00',\n  'unknown'),\n ('avito-notes.ru',\n  204,\n  'Title not found',\n  [],\n  '104.21.8.236',\n  '2024-03-21 13:30:00',\n  'unknown'),\n ('avito-notification.ru',\n  204,\n  'Title not found',\n  [],\n  '172.67.198.196',\n  '2024-03-21 13:29:59',\n  'unknown'),\n ('avito-notifications.ru',\n  204,\n  'Title not found',\n  [],\n  '104.21.70.79',\n  '2024-03-21 13:30:00',\n  'unknown'),\n ('solomonalsberg.ru',\n  520,\n  'solomonalsberg.ru | 520: Web server is returning an unknown error',\n  [],\n  '172.67.185.33',\n  '2024-03-21 16:30:56',\n  'unknown'),\n ('avito-lifehack.ru',\n  403,\n  '403',\n  [],\n  '185.215.4.19',\n  '2024-03-22 07:10:13',\n  'unknown'),\n ('proavitologkurs-bot.ru',\n  200,\n  'Title not found',\n  [],\n  '178.154.195.42',\n  '2024-03-22 15:01:20',\n  'unknown'),\n ('profavito.ru',\n  'Error',\n  'Error',\n  [],\n  '5.23.51.100',\n  '2024-03-22 07:45:35',\n  'unknown'),\n ('sber-biz.ru',\n  200,\n  'sber-biz.ru',\n  [],\n  '194.58.112.174',\n  '2024-03-22 06:04:59',\n  'unknown'),\n ('sbersoftdev.ru',\n  'Error',\n  'Error',\n  [],\n  'Error',\n  '2024-03-22 06:33:45',\n  'unknown'),\n ('tvoyavitolog.ru',\n  'Error',\n  'Error',\n  [],\n  '5.23.51.100',\n  '2024-03-22 07:45:35',\n  'unknown'),\n ('sberioglstics.ru',\n  200,\n  'Title not found',\n  [],\n  '104.21.82.57',\n  '2024-03-23 05:16:48',\n  'unknown'),\n ('sminfacryhosbergco.ru',\n  503,\n  'DDoS-Guard',\n  [],\n  '190.115.31.168',\n  '2024-03-23 12:45:21',\n  'unknown')]"
     },
     "execution_count": 20,
     "metadata": {},
     "output_type": "execute_result"
    }
   ],
   "source": [
    "# full_data = []\n",
    "\n",
    "# for domain in filtered_domains:\n",
    "#   data = get_info_about_domain(domain)\n",
    "#   full_data.append(data)\n",
    "\n",
    "full_data = [get_info_about_domain(domain) for domain in filtered_domains]\n",
    "full_data"
   ]
  },
  {
   "cell_type": "code",
   "execution_count": 21,
   "metadata": {
    "ExecuteTime": {
     "end_time": "2024-03-24T07:40:39.682517Z",
     "start_time": "2024-03-24T07:40:39.661928Z"
    }
   },
   "outputs": [
    {
     "data": {
      "text/plain": "                           domain status_code  \\\n0   меетуп-сберхеалтх-фронтенд.рф         200   \n1                    авито-топ.рф         403   \n2                avito-message.ru         204   \n3               avito-messages.ru         204   \n4                  avito-sells.ru         204   \n5                    avitosell.ru         204   \n6                   avitosells.ru         204   \n7                 podpiskasber.ru       Error   \n8                prof-avitolog.ru       Error   \n9                  sells-avito.ru         204   \n10          kupit-otzivi-avito.ru       Error   \n11  meetup-sberhealth-frontend.ru         200   \n12              nakrutka-avito.ru         200   \n13                    sber-ins.ru         200   \n14               aisberg-store.ru         200   \n\n                                                title redirects  \\\n0   Хостинг-провайдер TimeWeb.ru | Мы рады приветс...        []   \n1                                                 403        []   \n2                                     Title not found        []   \n3                                     Title not found        []   \n4                                     Title not found        []   \n5                                     Title not found        []   \n6                                     Title not found        []   \n7                                               Error        []   \n8                                               Error        []   \n9                                     Title not found        []   \n10                                              Error        []   \n11  Хостинг-провайдер TimeWeb.ru | Мы рады приветс...        []   \n12              \\n\\t\\t\\tНакрутка отзывов на Авито\\t\\t        []   \n13  Ð¡Ð°Ð¹Ñ Ð½Ð°Ð´ÑÐ¶Ð½Ð¾ Ð¿ÑÐ¸Ð¿Ð°ÑÐºÐ¾Ð²Ð°Ð½...        []   \n14  АЙСБЕРГ - Официальный Сайт Маркетплейс АЙСБЕРГ...        []   \n\n                ip           created_on registrar  \n0     92.53.96.244              Unknown   Unknown  \n1     185.215.4.41              Unknown   Unknown  \n2     104.21.96.52  2024-03-16 18:53:20   unknown  \n3    104.21.20.241  2024-03-16 18:53:20   unknown  \n4    104.21.67.213  2024-03-16 18:53:20   unknown  \n5   172.67.139.153  2024-03-16 18:53:20   unknown  \n6   172.67.163.186  2024-03-16 18:53:20   unknown  \n7            Error  2024-03-16 05:32:07   unknown  \n8            Error  2024-03-16 15:31:21   unknown  \n9    104.21.47.233  2024-03-16 18:53:20   unknown  \n10           Error  2024-03-18 07:29:50   unknown  \n11    92.53.96.244  2024-03-18 12:30:33   unknown  \n12   45.130.41.119  2024-03-18 07:08:04   unknown  \n13  37.140.192.232  2024-03-18 15:35:49   unknown  \n14   194.87.237.81  2024-03-19 07:15:19   unknown  ",
      "text/html": "<div>\n<style scoped>\n    .dataframe tbody tr th:only-of-type {\n        vertical-align: middle;\n    }\n\n    .dataframe tbody tr th {\n        vertical-align: top;\n    }\n\n    .dataframe thead th {\n        text-align: right;\n    }\n</style>\n<table border=\"1\" class=\"dataframe\">\n  <thead>\n    <tr style=\"text-align: right;\">\n      <th></th>\n      <th>domain</th>\n      <th>status_code</th>\n      <th>title</th>\n      <th>redirects</th>\n      <th>ip</th>\n      <th>created_on</th>\n      <th>registrar</th>\n    </tr>\n  </thead>\n  <tbody>\n    <tr>\n      <th>0</th>\n      <td>меетуп-сберхеалтх-фронтенд.рф</td>\n      <td>200</td>\n      <td>Хостинг-провайдер TimeWeb.ru | Мы рады приветс...</td>\n      <td>[]</td>\n      <td>92.53.96.244</td>\n      <td>Unknown</td>\n      <td>Unknown</td>\n    </tr>\n    <tr>\n      <th>1</th>\n      <td>авито-топ.рф</td>\n      <td>403</td>\n      <td>403</td>\n      <td>[]</td>\n      <td>185.215.4.41</td>\n      <td>Unknown</td>\n      <td>Unknown</td>\n    </tr>\n    <tr>\n      <th>2</th>\n      <td>avito-message.ru</td>\n      <td>204</td>\n      <td>Title not found</td>\n      <td>[]</td>\n      <td>104.21.96.52</td>\n      <td>2024-03-16 18:53:20</td>\n      <td>unknown</td>\n    </tr>\n    <tr>\n      <th>3</th>\n      <td>avito-messages.ru</td>\n      <td>204</td>\n      <td>Title not found</td>\n      <td>[]</td>\n      <td>104.21.20.241</td>\n      <td>2024-03-16 18:53:20</td>\n      <td>unknown</td>\n    </tr>\n    <tr>\n      <th>4</th>\n      <td>avito-sells.ru</td>\n      <td>204</td>\n      <td>Title not found</td>\n      <td>[]</td>\n      <td>104.21.67.213</td>\n      <td>2024-03-16 18:53:20</td>\n      <td>unknown</td>\n    </tr>\n    <tr>\n      <th>5</th>\n      <td>avitosell.ru</td>\n      <td>204</td>\n      <td>Title not found</td>\n      <td>[]</td>\n      <td>172.67.139.153</td>\n      <td>2024-03-16 18:53:20</td>\n      <td>unknown</td>\n    </tr>\n    <tr>\n      <th>6</th>\n      <td>avitosells.ru</td>\n      <td>204</td>\n      <td>Title not found</td>\n      <td>[]</td>\n      <td>172.67.163.186</td>\n      <td>2024-03-16 18:53:20</td>\n      <td>unknown</td>\n    </tr>\n    <tr>\n      <th>7</th>\n      <td>podpiskasber.ru</td>\n      <td>Error</td>\n      <td>Error</td>\n      <td>[]</td>\n      <td>Error</td>\n      <td>2024-03-16 05:32:07</td>\n      <td>unknown</td>\n    </tr>\n    <tr>\n      <th>8</th>\n      <td>prof-avitolog.ru</td>\n      <td>Error</td>\n      <td>Error</td>\n      <td>[]</td>\n      <td>Error</td>\n      <td>2024-03-16 15:31:21</td>\n      <td>unknown</td>\n    </tr>\n    <tr>\n      <th>9</th>\n      <td>sells-avito.ru</td>\n      <td>204</td>\n      <td>Title not found</td>\n      <td>[]</td>\n      <td>104.21.47.233</td>\n      <td>2024-03-16 18:53:20</td>\n      <td>unknown</td>\n    </tr>\n    <tr>\n      <th>10</th>\n      <td>kupit-otzivi-avito.ru</td>\n      <td>Error</td>\n      <td>Error</td>\n      <td>[]</td>\n      <td>Error</td>\n      <td>2024-03-18 07:29:50</td>\n      <td>unknown</td>\n    </tr>\n    <tr>\n      <th>11</th>\n      <td>meetup-sberhealth-frontend.ru</td>\n      <td>200</td>\n      <td>Хостинг-провайдер TimeWeb.ru | Мы рады приветс...</td>\n      <td>[]</td>\n      <td>92.53.96.244</td>\n      <td>2024-03-18 12:30:33</td>\n      <td>unknown</td>\n    </tr>\n    <tr>\n      <th>12</th>\n      <td>nakrutka-avito.ru</td>\n      <td>200</td>\n      <td>\\n\\t\\t\\tНакрутка отзывов на Авито\\t\\t</td>\n      <td>[]</td>\n      <td>45.130.41.119</td>\n      <td>2024-03-18 07:08:04</td>\n      <td>unknown</td>\n    </tr>\n    <tr>\n      <th>13</th>\n      <td>sber-ins.ru</td>\n      <td>200</td>\n      <td>Ð¡Ð°Ð¹Ñ Ð½Ð°Ð´ÑÐ¶Ð½Ð¾ Ð¿ÑÐ¸Ð¿Ð°ÑÐºÐ¾Ð²Ð°Ð½...</td>\n      <td>[]</td>\n      <td>37.140.192.232</td>\n      <td>2024-03-18 15:35:49</td>\n      <td>unknown</td>\n    </tr>\n    <tr>\n      <th>14</th>\n      <td>aisberg-store.ru</td>\n      <td>200</td>\n      <td>АЙСБЕРГ - Официальный Сайт Маркетплейс АЙСБЕРГ...</td>\n      <td>[]</td>\n      <td>194.87.237.81</td>\n      <td>2024-03-19 07:15:19</td>\n      <td>unknown</td>\n    </tr>\n  </tbody>\n</table>\n</div>"
     },
     "execution_count": 21,
     "metadata": {},
     "output_type": "execute_result"
    }
   ],
   "source": [
    "column_names = [\"domain\", \"status_code\", \"title\", \"redirects\", \"ip\", \"created_on\", \"registrar\"]\n",
    "df = pd.DataFrame(full_data, columns=column_names)\n",
    "df.head(15)"
   ]
  },
  {
   "cell_type": "code",
   "execution_count": 22,
   "metadata": {
    "ExecuteTime": {
     "end_time": "2024-03-24T07:41:12.646330Z",
     "start_time": "2024-03-24T07:41:12.629290Z"
    }
   },
   "outputs": [],
   "source": [
    "df.to_csv(\"domains_result.csv\", index=False)"
   ]
  },
  {
   "cell_type": "code",
   "execution_count": null,
   "metadata": {
    "ExecuteTime": {
     "start_time": "2024-03-24T06:41:25.272701Z"
    }
   },
   "outputs": [],
   "source": [
    "data = pd.read_csv(\"domains.csv\")\n",
    "data.head(15)"
   ]
  },
  {
   "cell_type": "code",
   "execution_count": null,
   "metadata": {},
   "outputs": [],
   "source": [
    "data[data[\"domain\"] == \"vtb-personal-app.ru\"]"
   ]
  },
  {
   "cell_type": "code",
   "execution_count": null,
   "metadata": {
    "ExecuteTime": {
     "start_time": "2024-03-24T06:41:25.275697Z"
    }
   },
   "outputs": [],
   "source": [
    "data[data[\"status_code\"] == \"Error\"]"
   ]
  },
  {
   "cell_type": "code",
   "execution_count": null,
   "metadata": {
    "ExecuteTime": {
     "start_time": "2024-03-24T06:41:25.276697Z"
    }
   },
   "outputs": [],
   "source": [
    "data.nunique()"
   ]
  },
  {
   "cell_type": "code",
   "execution_count": null,
   "metadata": {
    "ExecuteTime": {
     "start_time": "2024-03-24T06:41:25.278701Z"
    }
   },
   "outputs": [],
   "source": [
    "data.describe()"
   ]
  },
  {
   "cell_type": "code",
   "execution_count": null,
   "metadata": {
    "ExecuteTime": {
     "start_time": "2024-03-24T06:41:25.279697Z"
    }
   },
   "outputs": [],
   "source": []
  }
 ],
 "metadata": {
  "kernelspec": {
   "display_name": "Python 3",
   "language": "python",
   "name": "python3"
  },
  "language_info": {
   "codemirror_mode": {
    "name": "ipython",
    "version": 3
   },
   "file_extension": ".py",
   "mimetype": "text/x-python",
   "name": "python",
   "nbconvert_exporter": "python",
   "pygments_lexer": "ipython3",
   "version": "3.11.5"
  },
  "orig_nbformat": 4
 },
 "nbformat": 4,
 "nbformat_minor": 2
}
