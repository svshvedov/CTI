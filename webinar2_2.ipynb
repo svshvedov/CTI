{
 "cells": [
  {
   "cell_type": "code",
   "execution_count": 1,
   "metadata": {
    "ExecuteTime": {
     "end_time": "2024-03-26T16:15:45.606237Z",
     "start_time": "2024-03-26T16:15:45.465484Z"
    }
   },
   "outputs": [],
   "source": [
    "import uuid\n",
    "import re\n",
    "import json\n",
    "\n",
    "import requests\n",
    "from bs4 import BeautifulSoup"
   ]
  },
  {
   "cell_type": "code",
   "execution_count": 2,
   "metadata": {
    "ExecuteTime": {
     "end_time": "2024-03-26T16:15:47.739938Z",
     "start_time": "2024-03-26T16:15:47.733792Z"
    }
   },
   "outputs": [],
   "source": [
    "# получаем html код страницы, если она доступна, иначе Error\n",
    "def get_html_code(url: str) -> str:\n",
    "    headers = {\n",
    "      'User-Agent': 'Mozilla/5.0 (Windows NT 10.0; Win64; x64) AppleWebKit/537.36 (KHTML, like Gecko) Chrome/91.0.4472.124 Safari/537.36'\n",
    "    }\n",
    "    try:\n",
    "        req = requests.get(url, headers=headers)\n",
    "        # The HTTP 200 OK success status response code indicates that the request has succeeded.\n",
    "        if req.status_code == 200:\n",
    "            return req.text\n",
    "        else:\n",
    "            return \"Error\"\n",
    "        \n",
    "    except Exception as e:\n",
    "        print(e)\n",
    "        return \"Error\"\n",
    "\n",
    "# переводим html код в объект soup класса BeautifulSoup\n",
    "def html_to_soup(html: str) -> BeautifulSoup:\n",
    "    soup = BeautifulSoup(html, \"html.parser\")\n",
    "    return soup\n",
    "\n",
    "# вытаскивает из текста совпадения, используя регулярные выражения\n",
    "def find_by_regex(text: str, regular_expression: re.Pattern) -> list[str]:\n",
    "    matches = re.findall(regular_expression, text)\n",
    "    matches = list(set(matches))\n",
    "    return matches"
   ]
  },
  {
   "cell_type": "code",
   "execution_count": 3,
   "metadata": {
    "ExecuteTime": {
     "end_time": "2024-03-26T16:16:00.313257Z",
     "start_time": "2024-03-26T16:15:57.315818Z"
    }
   },
   "outputs": [],
   "source": [
    "report_url = 'https://securelist.com/ducktail-fashion-week/111017/'\n",
    "html = get_html_code(report_url)\n",
    "soup = html_to_soup(html)\n",
    "\n"
   ]
  },
  {
   "cell_type": "code",
   "execution_count": 5,
   "metadata": {
    "ExecuteTime": {
     "end_time": "2024-03-26T16:19:16.928068Z",
     "start_time": "2024-03-26T16:19:16.913507Z"
    }
   },
   "outputs": [
    {
     "data": {
      "text/plain": "(['dauhetdau[.]com',\n  '2fa[.]live',\n  'voiconprivatesv2083[.]com',\n  'motdanvoi20232023[.]com',\n  'cavoisatthu2023asd[.]com'],\n ['655a8ea3bc1baff01639dcdc43a294f8a5dc622e543d8f51e9d51c6eaaae6f6e',\n  'ab95f377bf7ae66d26ae7d0d56b71dec096b026b8090f4c5a19ac677a9ffe047',\n  '554353cda0989c3a141c2ab0d0db06393e4f3fd201727e8cf2ed8d136f87d144',\n  'ba8eb1a7f18e4cfca7dd178de1546d42ffb50028c8f3f7ba6551f88c11be75db',\n  '89f016d32707f096cc8daf674e5a9fc2ba6cf731d610f5303d997fc848645788',\n  '64f6cbe9adf91bc4ed457c79643d764a130b0d25364817c8b6da17b03ff91aa7',\n  'd4f10bd162ee77f4778ecc156921f5949cd2d64aab45b31d6050f446e59aed5a',\n  'c82b959d43789d3dbf5115629c3c01fa8dd599fbec36df0f4bc5d0371296545a',\n  'c6ae36e28668c6132da4d08bca7ceb13adf576fa1dbdb0a708d9b3b0f140dd03',\n  'bde696a0ae901864716320e3111d5aa49cba3b1d9375dce2903f7433a287b2f2',\n  '69257876e2ec5bdbe7114d6ce209f13afbfddb2af0006a6d17e6e91578966870'])"
     },
     "execution_count": 5,
     "metadata": {},
     "output_type": "execute_result"
    }
   ],
   "source": [
    "domain_regex = r'\\w+\\[\\.\\][a-z]{1,6}'\n",
    "ipv4_regex = r'\\d{1,3}\\.\\d{1,3}\\.\\d{1,3}\\[\\.\\]\\d{1,3}'\n",
    "hashMD5_regex = r'(?:^|\\s)([0-9a-f]{32})(?:\\s|$)'\n",
    "hashSHA1_regex = r'(?:^|\\s)([0-9a-f]{40})(?:\\s|$)'\n",
    "hashSHA256_regex = r'(?:^|\\s)([0-9a-f]{64})(?:\\s|$)'\n",
    "\n",
    "domains = find_by_regex(soup.text, domain_regex)\n",
    "ipv4 = find_by_regex(soup.text, ipv4_regex)\n",
    "hashMD5 = find_by_regex(soup.text, hashMD5_regex)\n",
    "hashSHA1 = find_by_regex(soup.text, hashSHA1_regex)\n",
    "hashSHA256 = find_by_regex(soup.text, hashSHA256_regex)\n",
    "domains, hashSHA256"
   ]
  },
  {
   "cell_type": "code",
   "execution_count": 5,
   "metadata": {
    "ExecuteTime": {
     "end_time": "2024-03-23T14:24:38.054421Z",
     "start_time": "2024-03-23T14:24:38.045566Z"
    }
   },
   "outputs": [],
   "source": [
    "rst_threat_apikey = \"wzsGdJ9nstr74EVdlAaaCjPP9vZWv0so5GLk2wwbt1P0yGLv1jWMzg\"\n",
    "\n",
    "from functools import lru_cache\n",
    "\n",
    "@lru_cache\n",
    "def ioc_lookup(ioc: str):\n",
    "\n",
    "  if \"[.]\" in ioc:\n",
    "    ioc = ioc.replace(\"[.]\", \".\")\n",
    "\n",
    "  headers = {\n",
    "      'accept': 'application/json',\n",
    "      'x-api-key': rst_threat_apikey,\n",
    "  }\n",
    "\n",
    "  query_params = {\n",
    "      'value': ioc,\n",
    "  }\n",
    "\n",
    "  try:\n",
    "    response = requests.get('https://api.rstcloud.net/v1/ioc', headers=headers, params=query_params)\n",
    "    return response.json()\n",
    "    \n",
    "  except Exception as e:\n",
    "    return e"
   ]
  },
  {
   "cell_type": "code",
   "execution_count": 6,
   "metadata": {
    "ExecuteTime": {
     "end_time": "2024-03-23T14:24:39.476362Z",
     "start_time": "2024-03-23T14:24:38.058447Z"
    }
   },
   "outputs": [],
   "source": [
    "response = ioc_lookup(\"45.66.248[.]119\")\n",
    "\n",
    "description = response.get(\"description\")\n",
    "report_source = response.get(\"src\").get(\"report\")\n",
    "ioc_value = response.get(\"ioc_value\")\n",
    "ioc_type = response.get(\"ioc_type\")\n",
    "tag = description.split('.')[0].split(\": \")[-1]\n",
    "related_threat = description.split(\".\")[1].split(\": \")[-1]\n"
   ]
  },
  {
   "cell_type": "code",
   "execution_count": 7,
   "metadata": {
    "ExecuteTime": {
     "end_time": "2024-03-23T14:24:39.488657Z",
     "start_time": "2024-03-23T14:24:39.480412Z"
    }
   },
   "outputs": [],
   "source": [
    "dict_data = {\n",
    "  \"ioc\": ioc_value,\n",
    "  \"tag\": tag,\n",
    "  \"related_threat\": related_threat,\n",
    "  \"report_source\": report_source,\n",
    "  \"ioc_type\": ioc_type\n",
    "}"
   ]
  },
  {
   "cell_type": "code",
   "execution_count": 8,
   "metadata": {
    "ExecuteTime": {
     "end_time": "2024-03-23T14:24:39.529022Z",
     "start_time": "2024-03-23T14:24:39.492659Z"
    }
   },
   "outputs": [],
   "source": [
    "def get_ioc_data(ioc: str) -> dict:\n",
    "  #потом ставим try except\n",
    "  try:\n",
    "    response = ioc_lookup(ioc)\n",
    "    report_source = response.get(\"src\").get(\"report\")\n",
    "    tag = description.split(\".\")[0].split(\": \")[-1]\n",
    "    related_threat = description.split(\".\")[1].split(\": \")[-1]\n",
    "    ioc_type = response.get(\"ioc_type\")\n",
    "\n",
    "    dict_data = {\n",
    "      \"ioc\": ioc,\n",
    "      \"tag\": tag,\n",
    "      \"related_threat\": related_threat,\n",
    "      \"report_source\": report_source,\n",
    "      \"ioc_type\": ioc_type\n",
    "    }\n",
    "\n",
    "    # return dict_data\n",
    "  \n",
    "  except Exception as e:\n",
    "    dict_data = {\n",
    "      \"ioc\": ioc,\n",
    "      \"tag\": None,\n",
    "      \"related_threat\": None,\n",
    "      \"report_source\": None,\n",
    "      \"ioc_type\": None\n",
    "    }\n",
    "\n",
    "  return dict_data"
   ]
  },
  {
   "cell_type": "code",
   "execution_count": 9,
   "metadata": {
    "ExecuteTime": {
     "end_time": "2024-03-23T14:25:04.118343Z",
     "start_time": "2024-03-23T14:24:39.532548Z"
    }
   },
   "outputs": [
    {
     "name": "stdout",
     "output_type": "stream",
     "text": [
      "{'ioc': '6164e9d297d29aa8682971259da06848', 'tag': 'ransomware', 'related_threat': 'icedid, nokoyawa', 'report_source': 'https://www.rewterz.com/rewterz-news/rewterz-threat-alert-authorities-raise-concerns-over-escalating-truebot-malware-attacks-active-iocs', 'ioc_type': 'md5'}\n",
      "{'ioc': '2dc57a3836e4393d4d16c4eb04bf9c7e', 'tag': 'ransomware', 'related_threat': 'icedid, nokoyawa', 'report_source': 'otx.alienvault.com', 'ioc_type': 'md5'}\n",
      "{'ioc': '12011c44955fd6631113f68a99447515', 'tag': 'ransomware', 'related_threat': 'icedid, nokoyawa', 'report_source': 'https://www.rewterz.com/rewterz-news/rewterz-threat-alert-authorities-raise-concerns-over-escalating-truebot-malware-attacks-active-iocs', 'ioc_type': 'md5'}\n",
      "{'ioc': 'fbe295e5a1acfbd0a6271898f885fe6a', 'tag': None, 'related_threat': None, 'report_source': None, 'ioc_type': None}\n",
      "{'ioc': '72a589da586844d7f0818ce684948eea', 'tag': 'ransomware', 'related_threat': 'icedid, nokoyawa', 'report_source': 'otx.alienvault.com', 'ioc_type': 'md5'}\n",
      "{'ioc': 'a0e9f5d64349fb13191bc781f81f42e1', 'tag': 'ransomware', 'related_threat': 'icedid, nokoyawa', 'report_source': 'https://1275.ru/ioc/3149/latrodectus-backdoor-iocs-part-2/?mtm_campaign=rss', 'ioc_type': 'md5'}\n",
      "{'ioc': '96b95edc1a917912a3181d5105fd5bfad1344de0', 'tag': 'ransomware', 'related_threat': 'icedid, nokoyawa', 'report_source': 'https://www.rewterz.com/rewterz-news/rewterz-threat-alert-authorities-raise-concerns-over-escalating-truebot-malware-attacks-active-iocs', 'ioc_type': 'sha1'}\n",
      "{'ioc': 'c6a5b345cef4eb795866ba81dcac9bd933fdd86d', 'tag': 'ransomware', 'related_threat': 'icedid, nokoyawa', 'report_source': 'otx.alienvault.com', 'ioc_type': 'sha1'}\n",
      "{'ioc': 'd6d205922e61635472efb13c2bb92c9ac6cb96da', 'tag': None, 'related_threat': None, 'report_source': None, 'ioc_type': None}\n",
      "{'ioc': '4f4f8cf0f9b47d0ad95d159201fe7e72fbc8448d', 'tag': 'ransomware', 'related_threat': 'icedid, nokoyawa', 'report_source': 'https://www.rewterz.com/rewterz-news/rewterz-threat-alert-authorities-raise-concerns-over-escalating-truebot-malware-attacks-active-iocs', 'ioc_type': 'sha1'}\n",
      "{'ioc': 'a1390a78533c47e55cc364e97af431117126d04a7faed49390210ea3e89dd0e1', 'tag': None, 'related_threat': None, 'report_source': None, 'ioc_type': None}\n",
      "{'ioc': 'c92c158d7c37fea795114fa6491fe5f145ad2f8c08776b18ae79db811e8e36a3', 'tag': 'ransomware', 'related_threat': 'icedid, nokoyawa', 'report_source': 'https://1275.ru/ioc/2376/play-ransomware-iocs-part-3/?from=rss', 'ioc_type': 'sha256'}\n",
      "{'ioc': '717beedcd2431785a0f59d194e47970e9544fbf398d462a305f6ad9a1b1100cb', 'tag': 'ransomware', 'related_threat': 'icedid, nokoyawa', 'report_source': 'https://www.rewterz.com/rewterz-news/rewterz-threat-alert-authorities-raise-concerns-over-escalating-truebot-malware-attacks-active-iocs', 'ioc_type': 'sha256'}\n",
      "{'ioc': '121a1f64fff22c4bfcef3f11a23956ed403cdeb9bdb803f9c42763087bd6d94e', 'tag': 'ransomware', 'related_threat': 'icedid, nokoyawa', 'report_source': 'https://1275.ru/ioc/2286/truebot-botnet-iocs-part-2-2/?from=rss', 'ioc_type': 'sha256'}\n"
     ]
    }
   ],
   "source": [
    "full_data = []\n",
    "\n",
    "# for domain in domains:\n",
    "#   data = get_ioc_data(domain)\n",
    "#   # print(data)\n",
    "#   full_data.append(data)\n",
    "\n",
    "for ip in ipv4:\n",
    "  data = get_ioc_data(ip)\n",
    "  # print(data)\n",
    "  full_data.append(data)\n",
    "  \n",
    "for h in hashMD5:\n",
    "  data = get_ioc_data(h)\n",
    "  print(data)\n",
    "  full_data.append(data)\n",
    "  \n",
    "for h in hashSHA1:\n",
    "  data = get_ioc_data(h)\n",
    "  print(data)\n",
    "  full_data.append(data)\n",
    "  \n",
    "for h in hashSHA256:\n",
    "  data = get_ioc_data(h)\n",
    "  print(data)\n",
    "  full_data.append(data)"
   ]
  },
  {
   "cell_type": "code",
   "execution_count": 10,
   "metadata": {
    "ExecuteTime": {
     "end_time": "2024-03-23T14:25:04.151343Z",
     "start_time": "2024-03-23T14:25:04.127367Z"
    }
   },
   "outputs": [
    {
     "data": {
      "text/plain": "[{'ioc': '5.188.206[.]78',\n  'tag': 'ransomware',\n  'related_threat': 'icedid, nokoyawa',\n  'report_source': 'https://github.com/stamparm/maltrail',\n  'ioc_type': 'ipv4'},\n {'ioc': '45.182.189[.]71',\n  'tag': 'ransomware',\n  'related_threat': 'icedid, nokoyawa',\n  'report_source': 'https://github.com/stamparm/maltrail',\n  'ioc_type': 'ipv4'},\n {'ioc': '81.19.135[.]30',\n  'tag': 'ransomware',\n  'related_threat': 'icedid, nokoyawa',\n  'report_source': 'https://www.rewterz.com/rewterz-news/rewterz-threat-alert-authorities-raise-concerns-over-escalating-truebot-malware-attacks-active-iocs',\n  'ioc_type': 'ipv4'},\n {'ioc': '92.118.36[.]199',\n  'tag': 'ransomware',\n  'related_threat': 'icedid, nokoyawa',\n  'report_source': 'https://www.hybrid-analysis.com/sample/a54d0c15db9354e3b580a1aa3da17634782f8fefd6f81887294372bd1d3404e7/64c2794610c5d57df80eeb32',\n  'ioc_type': 'ipv4'},\n {'ioc': '5.188.86[.]18',\n  'tag': 'ransomware',\n  'related_threat': 'icedid, nokoyawa',\n  'report_source': 'https://www.rewterz.com/rewterz-news/rewterz-threat-alert-authorities-raise-concerns-over-escalating-truebot-malware-attacks-active-iocs',\n  'ioc_type': 'ipv4'},\n {'ioc': '139.60.160[.]166',\n  'tag': 'ransomware',\n  'related_threat': 'icedid, nokoyawa',\n  'report_source': 'https://www.rewterz.com/rewterz-news/rewterz-threat-alert-authorities-raise-concerns-over-escalating-truebot-malware-attacks-active-iocs',\n  'ioc_type': 'ipv4'},\n {'ioc': '6164e9d297d29aa8682971259da06848',\n  'tag': 'ransomware',\n  'related_threat': 'icedid, nokoyawa',\n  'report_source': 'https://www.rewterz.com/rewterz-news/rewterz-threat-alert-authorities-raise-concerns-over-escalating-truebot-malware-attacks-active-iocs',\n  'ioc_type': 'md5'},\n {'ioc': '2dc57a3836e4393d4d16c4eb04bf9c7e',\n  'tag': 'ransomware',\n  'related_threat': 'icedid, nokoyawa',\n  'report_source': 'otx.alienvault.com',\n  'ioc_type': 'md5'},\n {'ioc': '12011c44955fd6631113f68a99447515',\n  'tag': 'ransomware',\n  'related_threat': 'icedid, nokoyawa',\n  'report_source': 'https://www.rewterz.com/rewterz-news/rewterz-threat-alert-authorities-raise-concerns-over-escalating-truebot-malware-attacks-active-iocs',\n  'ioc_type': 'md5'},\n {'ioc': 'fbe295e5a1acfbd0a6271898f885fe6a',\n  'tag': None,\n  'related_threat': None,\n  'report_source': None,\n  'ioc_type': None},\n {'ioc': '72a589da586844d7f0818ce684948eea',\n  'tag': 'ransomware',\n  'related_threat': 'icedid, nokoyawa',\n  'report_source': 'otx.alienvault.com',\n  'ioc_type': 'md5'},\n {'ioc': 'a0e9f5d64349fb13191bc781f81f42e1',\n  'tag': 'ransomware',\n  'related_threat': 'icedid, nokoyawa',\n  'report_source': 'https://1275.ru/ioc/3149/latrodectus-backdoor-iocs-part-2/?mtm_campaign=rss',\n  'ioc_type': 'md5'},\n {'ioc': '96b95edc1a917912a3181d5105fd5bfad1344de0',\n  'tag': 'ransomware',\n  'related_threat': 'icedid, nokoyawa',\n  'report_source': 'https://www.rewterz.com/rewterz-news/rewterz-threat-alert-authorities-raise-concerns-over-escalating-truebot-malware-attacks-active-iocs',\n  'ioc_type': 'sha1'},\n {'ioc': 'c6a5b345cef4eb795866ba81dcac9bd933fdd86d',\n  'tag': 'ransomware',\n  'related_threat': 'icedid, nokoyawa',\n  'report_source': 'otx.alienvault.com',\n  'ioc_type': 'sha1'},\n {'ioc': 'd6d205922e61635472efb13c2bb92c9ac6cb96da',\n  'tag': None,\n  'related_threat': None,\n  'report_source': None,\n  'ioc_type': None},\n {'ioc': '4f4f8cf0f9b47d0ad95d159201fe7e72fbc8448d',\n  'tag': 'ransomware',\n  'related_threat': 'icedid, nokoyawa',\n  'report_source': 'https://www.rewterz.com/rewterz-news/rewterz-threat-alert-authorities-raise-concerns-over-escalating-truebot-malware-attacks-active-iocs',\n  'ioc_type': 'sha1'},\n {'ioc': 'a1390a78533c47e55cc364e97af431117126d04a7faed49390210ea3e89dd0e1',\n  'tag': None,\n  'related_threat': None,\n  'report_source': None,\n  'ioc_type': None},\n {'ioc': 'c92c158d7c37fea795114fa6491fe5f145ad2f8c08776b18ae79db811e8e36a3',\n  'tag': 'ransomware',\n  'related_threat': 'icedid, nokoyawa',\n  'report_source': 'https://1275.ru/ioc/2376/play-ransomware-iocs-part-3/?from=rss',\n  'ioc_type': 'sha256'},\n {'ioc': '717beedcd2431785a0f59d194e47970e9544fbf398d462a305f6ad9a1b1100cb',\n  'tag': 'ransomware',\n  'related_threat': 'icedid, nokoyawa',\n  'report_source': 'https://www.rewterz.com/rewterz-news/rewterz-threat-alert-authorities-raise-concerns-over-escalating-truebot-malware-attacks-active-iocs',\n  'ioc_type': 'sha256'},\n {'ioc': '121a1f64fff22c4bfcef3f11a23956ed403cdeb9bdb803f9c42763087bd6d94e',\n  'tag': 'ransomware',\n  'related_threat': 'icedid, nokoyawa',\n  'report_source': 'https://1275.ru/ioc/2286/truebot-botnet-iocs-part-2-2/?from=rss',\n  'ioc_type': 'sha256'}]"
     },
     "execution_count": 10,
     "metadata": {},
     "output_type": "execute_result"
    }
   ],
   "source": [
    "full_data"
   ]
  },
  {
   "cell_type": "code",
   "execution_count": 11,
   "metadata": {
    "ExecuteTime": {
     "end_time": "2024-03-23T14:25:04.168169Z",
     "start_time": "2024-03-23T14:25:04.157047Z"
    }
   },
   "outputs": [],
   "source": [
    "def write_to_json(filename: str, data: list[dict]):\n",
    "    with open(filename, 'w') as f:\n",
    "        json.dump(data,\n",
    "                  f,\n",
    "                  indent=4,\n",
    "                  ensure_ascii=True)"
   ]
  },
  {
   "cell_type": "code",
   "execution_count": 12,
   "metadata": {
    "ExecuteTime": {
     "end_time": "2024-03-23T14:25:04.186298Z",
     "start_time": "2024-03-23T14:25:04.172430Z"
    }
   },
   "outputs": [],
   "source": [
    "write_to_json(\"ioc7.json\", full_data)"
   ]
  },
  {
   "cell_type": "code",
   "execution_count": 12,
   "metadata": {
    "ExecuteTime": {
     "end_time": "2024-03-23T14:25:04.197716Z",
     "start_time": "2024-03-23T14:25:04.191157Z"
    }
   },
   "outputs": [],
   "source": []
  }
 ],
 "metadata": {
  "kernelspec": {
   "display_name": "Python 3",
   "language": "python",
   "name": "python3"
  },
  "language_info": {
   "codemirror_mode": {
    "name": "ipython",
    "version": 3
   },
   "file_extension": ".py",
   "mimetype": "text/x-python",
   "name": "python",
   "nbconvert_exporter": "python",
   "pygments_lexer": "ipython3",
   "version": "3.11.5"
  },
  "orig_nbformat": 4
 },
 "nbformat": 4,
 "nbformat_minor": 2
}
