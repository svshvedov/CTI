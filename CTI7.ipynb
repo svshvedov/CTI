{
 "cells": [
  {
   "cell_type": "code",
   "execution_count": 1,
   "id": "initial_id",
   "metadata": {
    "collapsed": true,
    "ExecuteTime": {
     "end_time": "2024-03-21T18:43:31.518970Z",
     "start_time": "2024-03-21T18:43:31.383803Z"
    }
   },
   "outputs": [],
   "source": [
    "import uuid\n",
    "import re\n",
    "import json\n",
    "import requests\n",
    "from bs4 import BeautifulSoup"
   ]
  },
  {
   "cell_type": "code",
   "outputs": [],
   "source": [
    "# получаем html код страницы, если она доступна, иначе Error\n",
    "def get_html_code(url: str) -> str:\n",
    "    headers = {\n",
    "      'User-Agent': 'Mozilla/5.0 (Windows NT 10.0; Win64; x64) AppleWebKit/537.36 (KHTML, like Gecko) Chrome/117.0.0.0 Safari/537.36'\n",
    "    }\n",
    "    try:\n",
    "        req = requests.get(url, headers=headers)\n",
    "        # The HTTP 200 OK success status response code indicates that the request has succeeded.\n",
    "        if req.status_code == 200:\n",
    "            return req.text\n",
    "        else:\n",
    "            return \"Error\"\n",
    "        \n",
    "    except Exception as e:\n",
    "        print(e)\n",
    "        return \"Error\"\n",
    "\n",
    "# переводим html код в объект soup класса BeautifulSoup\n",
    "def html_to_soup(html: str) -> BeautifulSoup:\n",
    "    soup = BeautifulSoup(html, \"html.parser\")\n",
    "    return soup\n",
    "\n",
    "# вытаскивает из текста совпадения, используя регулярные выражения\n",
    "def find_by_regex(text: str, regular_expression: re.Pattern) -> list[str]:\n",
    "    matches = re.findall(regular_expression, text)\n",
    "    matches = list(set(matches))\n",
    "    return matches\n",
    "\n",
    "# обогащает CVE описанием с mitre.org\n",
    "def enrich_cve(cve: str) -> str:\n",
    "    try:\n",
    "        mitre_url = \"https://cve.mitre.org/cgi-bin/cvename.cgi?name=\"\n",
    "        cve_url = mitre_url + cve\n",
    "\n",
    "        html_code = get_html_code(cve_url)\n",
    "        soup = html_to_soup(html_code)\n",
    "\n",
    "        description = soup.find(\"th\", string=\"Description\")\n",
    "        description = description.find_next(\"td\", colspan=\"2\").text\n",
    "    except Exception as e:\n",
    "        print(e)\n",
    "        return \"Error\"\n",
    "\n",
    "    return description\n",
    "\n",
    "# записывает данные в json файл\n",
    "def write_to_json(filename: str, data: list[dict]):\n",
    "    with open(filename, 'w') as f:\n",
    "        json.dump(data,\n",
    "                  f,\n",
    "                  indent=4,\n",
    "                  ensure_ascii=True)\n",
    "\n",
    "# читает данные из json файла\n",
    "def read_from_json(filename: str):\n",
    "    with open(filename, 'r') as f:\n",
    "        data = json.load(f)\n",
    "    return data"
   ],
   "metadata": {
    "collapsed": false,
    "ExecuteTime": {
     "end_time": "2024-03-21T18:43:36.955331Z",
     "start_time": "2024-03-21T18:43:36.944892Z"
    }
   },
   "id": "4f9729c2719efa4b",
   "execution_count": 2
  },
  {
   "cell_type": "code",
   "outputs": [
    {
     "data": {
      "text/plain": "[{'id': 'dbe9b483-1fb7-44d9-82e9-892fee22e21f',\n  'href': 'https://helpx.adobe.com/security/products/experience-manager/apsb24-05.html',\n  'product': 'APSB24-05 :\\xa0Security update available for Adobe Experience Manager',\n  'cve': {'CVE-2024-26033': 'Adobe Experience Manager versions 6.5.19 and earlier are affected by a stored Cross-Site Scripting (XSS) vulnerability that could be abused by an attacker to inject malicious scripts into vulnerable form fields. Malicious JavaScript may be executed in a victim&#8217;s browser when they browse to the page containing the vulnerable field.\\n\\n',\n   'CVE-2024-26056': 'Adobe Experience Manager versions 6.5.19 and earlier are affected by a stored Cross-Site Scripting (XSS) vulnerability that could be abused by an attacker to inject malicious scripts into vulnerable form fields. Malicious JavaScript may be executed in a victim&#8217;s browser when they browse to the page containing the vulnerable field.\\n\\n',\n   'CVE-2024-26102': \"Adobe Experience Manager versions 6.5.19 and earlier are affected by a reflected Cross-Site Scripting (XSS) vulnerability. If an attacker is able to convince a victim to visit a URL referencing a vulnerable page, malicious JavaScript content may be executed within the context of the victim's browser.\\n\\n\",\n   'CVE-2024-26107': \"Adobe Experience Manager versions 6.5.19 and earlier are affected by a reflected Cross-Site Scripting (XSS) vulnerability. If an attacker is able to convince a victim to visit a URL referencing a vulnerable page, malicious JavaScript content may be executed within the context of the victim's browser.\\n\\n\",\n   'CVE-2024-26118': \"Adobe Experience Manager versions 6.5.19 and earlier are affected by a reflected Cross-Site Scripting (XSS) vulnerability. If an attacker is able to convince a victim to visit a URL referencing a vulnerable page, malicious JavaScript content may be executed within the context of the victim's browser.\\n\\n\",\n   'CVE-2024-26120': 'Adobe Experience Manager versions 6.5.19 and earlier are affected by a stored Cross-Site Scripting (XSS) vulnerability that could be abused by an attacker to inject malicious scripts into vulnerable form fields. Malicious JavaScript may be executed in a victim&#8217;s browser when they browse to the page containing the vulnerable field.\\n\\n',\n   'CVE-2024-26051': 'Adobe Experience Manager versions 6.5.19 and earlier are affected by a stored Cross-Site Scripting (XSS) vulnerability that could be abused by an attacker to inject malicious scripts into vulnerable form fields. Malicious JavaScript may be executed in a victim&#8217;s browser when they browse to the page containing the vulnerable field.\\n\\n',\n   'CVE-2024-26062': 'Adobe Experience Manager versions 6.5.19 and earlier are affected by a stored Cross-Site Scripting (XSS) vulnerability that could be abused by an attacker to inject malicious scripts into vulnerable form fields. Malicious JavaScript may be executed in a victim&#8217;s browser when they browse to the page containing the vulnerable field.\\n\\n',\n   'CVE-2024-20760': 'Adobe Experience Manager versions 6.5.19 and earlier are affected by a stored Cross-Site Scripting (XSS) vulnerability that could be abused by an attacker to inject malicious scripts into vulnerable form fields. Malicious JavaScript may be executed in a victim&#8217;s browser when they browse to the page containing the vulnerable field.\\n\\n',\n   'CVE-2024-26080': 'Adobe Experience Manager versions 6.5.19 and earlier are affected by a DOM-based Cross-Site Scripting (XSS) vulnerability that could be abused by an attacker to inject malicious scripts into vulnerable web pages. Malicious JavaScript may be executed in a victim&#8217;s browser when they browse to the page containing the vulnerable script.\\n\\n',\n   'CVE-2024-26038': 'Adobe Experience Manager versions 6.5.19 and earlier are affected by a stored Cross-Site Scripting (XSS) vulnerability that could be abused by an attacker to inject malicious scripts into vulnerable form fields. Malicious JavaScript may be executed in a victim&#8217;s browser when they browse to the page containing the vulnerable field.\\n\\n',\n   'CVE-2024-26042': \"Adobe Experience Manager versions 6.5.19 and earlier are affected by a DOM-based Cross-Site Scripting (XSS) vulnerability that could be abused by an attacker to inject malicious scripts into vulnerable web pages. Malicious JavaScript may be executed in a victim&#8217;s browser when they browse to the page containing the vulnerable script. This could result in arbitrary code execution in the context of the victim's browser.\\n\\n\",\n   'CVE-2024-26069': 'Adobe Experience Manager versions 6.5.19 and earlier are affected by a stored Cross-Site Scripting (XSS) vulnerability that could be abused by an attacker to inject malicious scripts into vulnerable form fields. Malicious JavaScript may be executed in a victim&#8217;s browser when they browse to the page containing the vulnerable field.\\n\\n',\n   'CVE-2024-26065': 'Adobe Experience Manager versions 6.5.19 and earlier are affected by a stored Cross-Site Scripting (XSS) vulnerability that could be abused by an attacker to inject malicious scripts into vulnerable form fields. Malicious JavaScript may be executed in a victim&#8217;s browser when they browse to the page containing the vulnerable field.\\n\\n',\n   'CVE-2024-26030': 'Adobe Experience Manager versions 6.5.19 and earlier are affected by a stored Cross-Site Scripting (XSS) vulnerability that could be abused by an attacker to inject malicious scripts into vulnerable form fields. Malicious JavaScript may be executed in a victim&#8217;s browser when they browse to the page containing the vulnerable field.\\n\\n',\n   'CVE-2024-26032': \"Adobe Experience Manager versions 6.5.19 and earlier are affected by a DOM-based Cross-Site Scripting (XSS) vulnerability that could be abused by an attacker to inject malicious scripts into vulnerable web pages. Malicious JavaScript may be executed in a victim&#8217;s browser when they browse to the page containing the vulnerable script. This could result in arbitrary code execution in the context of the victim's browser. Exploitation of this issue requires user interaction.\\n\\n\",\n   'CVE-2024-26035': 'Adobe Experience Manager versions 6.5.19 and earlier are affected by a stored Cross-Site Scripting (XSS) vulnerability that could be abused by an attacker to inject malicious scripts into vulnerable form fields. Malicious JavaScript may be executed in a victim&#8217;s browser when they browse to the page containing the vulnerable field.\\n\\n',\n   'CVE-2024-26028': 'Adobe Experience Manager versions 6.5.19 and earlier are affected by a stored Cross-Site Scripting (XSS) vulnerability that could be abused by an attacker to inject malicious scripts into vulnerable form fields. Malicious JavaScript may be executed in a victim&#8217;s browser when they browse to the page containing the vulnerable field.\\n\\n',\n   'CVE-2024-26052': 'Adobe Experience Manager versions 6.5.19 and earlier are affected by a stored Cross-Site Scripting (XSS) vulnerability that could be abused by an attacker to inject malicious scripts into vulnerable form fields. Malicious JavaScript may be executed in a victim&#8217;s browser when they browse to the page containing the vulnerable field.\\n\\n',\n   'CVE-2024-26067': 'Adobe Experience Manager versions 6.5.19 and earlier are affected by a stored Cross-Site Scripting (XSS) vulnerability that could be abused by an attacker to inject malicious scripts into vulnerable form fields. Malicious JavaScript may be executed in a victim&#8217;s browser when they browse to the page containing the vulnerable field.\\n\\n',\n   'CVE-2024-26096': 'Adobe Experience Manager versions 6.5.19 and earlier are affected by a stored Cross-Site Scripting (XSS) vulnerability that could be abused by an attacker to inject malicious scripts into vulnerable form fields. Malicious JavaScript may be executed in a victim&#8217;s browser when they browse to the page containing the vulnerable field.\\n\\n',\n   'CVE-2024-26048': '** RESERVED ** This candidate has been reserved by an organization or individual that will use it when announcing a new security problem. When the candidate has been publicized, the details for this candidate will be provided.\\n\\n',\n   'CVE-2024-26061': 'Adobe Experience Manager versions 6.5.19 and earlier are affected by a stored Cross-Site Scripting (XSS) vulnerability that could be abused by an attacker to inject malicious scripts into vulnerable form fields. Malicious JavaScript may be executed in a victim&#8217;s browser when they browse to the page containing the vulnerable field.\\n\\n',\n   'CVE-2024-26034': 'Adobe Experience Manager versions 6.5.19 and earlier are affected by a stored Cross-Site Scripting (XSS) vulnerability that could be abused by an attacker to inject malicious scripts into vulnerable form fields. Malicious JavaScript may be executed in a victim&#8217;s browser when they browse to the page containing the vulnerable field.\\n\\n',\n   'CVE-2024-26104': \"Adobe Experience Manager versions 6.5.19 and earlier are affected by a reflected Cross-Site Scripting (XSS) vulnerability. If an attacker is able to convince a victim to visit a URL referencing a vulnerable page, malicious JavaScript content may be executed within the context of the victim's browser.\\n\\n\",\n   'CVE-2024-26125': 'Adobe Experience Manager versions 6.5.19 and earlier are affected by a stored Cross-Site Scripting (XSS) vulnerability that could be abused by an attacker to inject malicious scripts into vulnerable form fields. Malicious JavaScript may be executed in a victim&#8217;s browser when they browse to the page containing the vulnerable field.\\n\\n',\n   'CVE-2024-26101': \"Adobe Experience Manager versions 6.5.19 and earlier are affected by a reflected Cross-Site Scripting (XSS) vulnerability. If an attacker is able to convince a victim to visit a URL referencing a vulnerable page, malicious JavaScript content may be executed within the context of the victim's browser.\\n\\n\",\n   'CVE-2024-26040': 'Adobe Experience Manager versions 6.5.19 and earlier are affected by a stored Cross-Site Scripting (XSS) vulnerability that could be abused by an attacker to inject malicious scripts into vulnerable form fields. Malicious JavaScript may be executed in a victim&#8217;s browser when they browse to the page containing the vulnerable field.\\n\\n',\n   'CVE-2024-26073': 'Adobe Experience Manager versions 6.5.19 and earlier are affected by a stored Cross-Site Scripting (XSS) vulnerability that could be abused by an attacker to inject malicious scripts into vulnerable form fields. Malicious JavaScript may be executed in a victim&#8217;s browser when they browse to the page containing the vulnerable field.\\n\\n',\n   'CVE-2024-26043': 'Adobe Experience Manager versions 6.5.19 and earlier are affected by a stored Cross-Site Scripting (XSS) vulnerability that could be abused by an attacker to inject malicious scripts into vulnerable form fields. Malicious JavaScript may be executed in a victim&#8217;s browser when they browse to the page containing the vulnerable field.\\n\\n',\n   'CVE-2024-26106': \"Adobe Experience Manager versions 6.5.19 and earlier are affected by a reflected Cross-Site Scripting (XSS) vulnerability. If an attacker is able to convince a victim to visit a URL referencing a vulnerable page, malicious JavaScript content may be executed within the context of the victim's browser.\\n\\n\",\n   'CVE-2024-26031': 'Adobe Experience Manager versions 6.5.19 and earlier are affected by a stored Cross-Site Scripting (XSS) vulnerability that could be abused by an attacker to inject malicious scripts into vulnerable form fields. Malicious JavaScript may be executed in a victim&#8217;s browser when they browse to the page containing the vulnerable field.\\n\\n',\n   'CVE-2024-26105': \"Adobe Experience Manager versions 6.5.19 and earlier are affected by a reflected Cross-Site Scripting (XSS) vulnerability. If an attacker is able to convince a victim to visit a URL referencing a vulnerable page, malicious JavaScript content may be executed within the context of the victim's browser.\\n\\n\",\n   'CVE-2024-20768': 'Adobe Experience Manager versions 6.5.19 and earlier are affected by a stored Cross-Site Scripting (XSS) vulnerability that could be abused by an attacker to inject malicious scripts into vulnerable form fields. Malicious JavaScript may be executed in a victim&#8217;s browser when they browse to the page containing the vulnerable field.\\n\\n',\n   'CVE-2024-26041': 'Adobe Experience Manager versions 6.5.19 and earlier are affected by a stored Cross-Site Scripting (XSS) vulnerability that could be abused by an attacker to inject malicious scripts into vulnerable form fields. Malicious JavaScript may be executed in a victim&#8217;s browser when they browse to the page containing the vulnerable field.\\n\\n',\n   'CVE-2024-26094': 'Adobe Experience Manager versions 6.5.19 and earlier are affected by a stored Cross-Site Scripting (XSS) vulnerability that could be abused by an attacker to inject malicious scripts into vulnerable form fields. Malicious JavaScript may be executed in a victim&#8217;s browser when they browse to the page containing the vulnerable field.\\n\\n',\n   'CVE-2023-25690': 'Some mod_proxy configurations on Apache HTTP Server versions 2.4.0 through 2.4.55 allow a HTTP Request Smuggling attack. Configurations are affected when mod_proxy is enabled along with some form of RewriteRule or ProxyPassMatch in which a non-specific pattern matches some portion of the user-supplied request-target (URL) data and is then re-inserted into the proxied request-target using variable substitution. For example, something like: RewriteEngine on RewriteRule \"^/here/(.*)\" \"http://example.com:8080/elsewhere?$1\"; [P] ProxyPassReverse /here/ http://example.com:8080/ Request splitting/smuggling could result in bypass of access controls in the proxy server, proxying unintended URLs to existing origin servers, and cache poisoning. Users are recommended to update to at least version 2.4.56 of Apache HTTP Server.\\n\\n',\n   'CVE-2024-26045': 'Adobe Experience Manager versions 6.5.19 and earlier are affected by a stored Cross-Site Scripting (XSS) vulnerability that could be abused by an attacker to inject malicious scripts into vulnerable form fields. Malicious JavaScript may be executed in a victim&#8217;s browser when they browse to the page containing the vulnerable field.\\n\\n',\n   'CVE-2024-26059': 'Adobe Experience Manager versions 6.5.19 and earlier are affected by a stored Cross-Site Scripting (XSS) vulnerability that could be abused by an attacker to inject malicious scripts into vulnerable form fields. Malicious JavaScript may be executed in a victim&#8217;s browser when they browse to the page containing the vulnerable field.\\n\\n',\n   'CVE-2024-26119': 'Adobe Experience Manager versions 6.5.19 and earlier are affected by an Improper Access Control vulnerability that could result in a Security feature bypass. An attacker could leverage this vulnerability to bypass security measures and gain unauthorized access. Exploitation of this issue does not require user interaction.\\n\\n',\n   'CVE-2024-26124': 'Adobe Experience Manager versions 6.5.19 and earlier are affected by a stored Cross-Site Scripting (XSS) vulnerability that could be abused by an attacker to inject malicious scripts into vulnerable form fields. Malicious JavaScript may be executed in a victim&#8217;s browser when they browse to the page containing the vulnerable field.\\n\\n',\n   'CVE-2024-26127': '** RESERVED ** This candidate has been reserved by an organization or individual that will use it when announcing a new security problem. When the candidate has been publicized, the details for this candidate will be provided.\\n\\n',\n   'CVE-2024-26103': \"Adobe Experience Manager versions 6.5.19 and earlier are affected by a reflected Cross-Site Scripting (XSS) vulnerability. If an attacker is able to convince a victim to visit a URL referencing a vulnerable page, malicious JavaScript content may be executed within the context of the victim's browser.\\n\\n\",\n   'CVE-2024-26064': \"Adobe Experience Manager versions 6.5.19 and earlier are affected by a DOM-based Cross-Site Scripting (XSS) vulnerability that could be abused by an attacker to inject malicious scripts into a webpage. Malicious JavaScript may be executed in a victim&#8217;s browser when they browse to the page containing the vulnerable script. This could result in arbitrary code execution in the context of the victim's browser. Exploitation of this issue requires user interaction.\\n\\n\",\n   'CVE-2024-26126': '** RESERVED ** This candidate has been reserved by an organization or individual that will use it when announcing a new security problem. When the candidate has been publicized, the details for this candidate will be provided.\\n\\n',\n   'CVE-2024-26063': 'Adobe Experience Manager versions 6.5.19 and earlier are affected by an Information Exposure vulnerability that could result in a Security feature bypass. An attacker could leverage this vulnerability to gain unauthorized access to sensitive information, potentially bypassing security measures. Exploitation of this issue does not require user interaction.\\n\\n',\n   'CVE-2024-26044': \"Adobe Experience Manager versions 6.5.19 and earlier are affected by a DOM-based Cross-Site Scripting (XSS) vulnerability that could be abused by an attacker to inject malicious scripts into a webpage. Malicious JavaScript may be executed in a victim&#8217;s browser when they browse to the page containing the vulnerable script. This could result in arbitrary code execution in the context of the victim's browser.\\n\\n\",\n   'CVE-2024-26050': 'Adobe Experience Manager versions 6.5.19 and earlier are affected by a stored Cross-Site Scripting (XSS) vulnerability that could be abused by an attacker to inject malicious scripts into vulnerable form fields. Malicious JavaScript may be executed in a victim&#8217;s browser when they browse to the page containing the vulnerable field.\\n\\n'}},\n {'id': 'aa593ab0-3878-4248-a68a-2d4b46e7db4e',\n  'href': 'https://helpx.adobe.com/security/products/premiere_pro/apsb24-12.html',\n  'product': 'APSB24-12 :\\xa0Security update available for Adobe Premiere Pro',\n  'cve': {'CVE-2024-20746': 'Premiere Pro versions 24.1, 23.6.2 and earlier are affected by an out-of-bounds write vulnerability that could result in arbitrary code execution in the context of the current user. Exploitation of this issue requires user interaction in that a victim must open a malicious file.\\n\\n',\n   'CVE-2024-20745': 'Premiere Pro versions 24.1, 23.6.2 and earlier are affected by a Heap-based Buffer Overflow vulnerability that could result in arbitrary code execution in the context of the current user. Exploitation of this issue requires user interaction in that a victim must open a malicious file.\\n\\n'}},\n {'id': '75192ed6-bd87-43bf-a0ab-7f47aa5815ea',\n  'href': 'https://helpx.adobe.com/security/products/coldfusion/apsb24-14.html',\n  'product': 'APSB24-14 :\\xa0Security update available for Adobe ColdFusion',\n  'cve': {'CVE-2024-20767': 'ColdFusion versions 2023.6, 2021.12 and earlier are affected by an Improper Access Control vulnerability that could lead to arbitrary file system read. An attacker could leverage this vulnerability to bypass security measures and gain unauthorized access to sensitive files and perform arbitrary file system write. Exploitation of this issue does not require user interaction.\\n\\n'}},\n {'id': 'e18a5024-217d-44b9-b887-046c083f5709',\n  'href': 'https://helpx.adobe.com/security/products/bridge/apsb24-15.html',\n  'product': 'APSB24-15 :\\xa0Security update available for Adobe Bridge',\n  'cve': {'CVE-2024-20755': 'Bridge versions 13.0.5, 14.0.1 and earlier are affected by a Heap-based Buffer Overflow vulnerability that could result in arbitrary code execution in the context of the current user. Exploitation of this issue requires user interaction in that a victim must open a malicious file.\\n\\n',\n   'CVE-2024-20756': 'Bridge versions 13.0.5, 14.0.1 and earlier are affected by an out-of-bounds write vulnerability that could result in arbitrary code execution in the context of the current user. Exploitation of this issue requires user interaction in that a victim must open a malicious file.\\n\\n',\n   'CVE-2024-20757': 'Bridge versions 13.0.5, 14.0.1 and earlier are affected by an out-of-bounds read vulnerability that could lead to disclosure of sensitive memory. An attacker could leverage this vulnerability to bypass mitigations such as ASLR. Exploitation of this issue requires user interaction in that a victim must open a malicious file.\\n\\n',\n   'CVE-2024-20752': 'Bridge versions 13.0.5, 14.0.1 and earlier are affected by a Use After Free vulnerability that could result in arbitrary code execution in the context of the current user. Exploitation of this issue requires user interaction in that a victim must open a malicious file.\\n\\n'}},\n {'id': 'a07d98c9-1c9b-4af4-9303-2b509753fa47',\n  'href': 'https://helpx.adobe.com/security/products/lightroom/apsb24-17.html',\n  'product': 'APSB24-17 :\\xa0Security update available for Adobe Lightroom',\n  'cve': {'CVE-2024-20754': 'Lightroom Desktop versions 7.1.2 and earlier are affected by an Untrusted Search Path vulnerability that could result in arbitrary code execution in the context of the current user. If the application uses a search path to locate critical resources such as programs, then an attacker could modify that search path to point to a malicious program, which the targeted application would then execute. Exploitation of this issue requires user interaction in that a victim must open a malicious file.\\n\\n'}},\n {'id': 'b3f768cf-d251-4b16-ac35-780abab382e2',\n  'href': 'https://helpx.adobe.com/security/products/animate/apsb24-19.html',\n  'product': 'APSB24-19 :\\xa0Security update available for Adobe Animate',\n  'cve': {'CVE-2024-20761': 'Animate versions 24.0, 23.0.3 and earlier are affected by an out-of-bounds write vulnerability that could result in arbitrary code execution in the context of the current user. Exploitation of this issue requires user interaction in that a victim must open a malicious file.\\n\\n',\n   'CVE-2024-20764': 'Animate versions 24.0, 23.0.3 and earlier are affected by an out-of-bounds read vulnerability that could lead to disclosure of sensitive memory. An attacker could leverage this vulnerability to bypass mitigations such as ASLR. Exploitation of this issue requires user interaction in that a victim must open a malicious file.\\n\\n',\n   'CVE-2024-20763': 'Animate versions 24.0, 23.0.3 and earlier are affected by an out-of-bounds read vulnerability that could lead to disclosure of sensitive memory. An attacker could leverage this vulnerability to bypass mitigations such as ASLR. Exploitation of this issue requires user interaction in that a victim must open a malicious file.\\n\\n',\n   'CVE-2024-20762': 'Animate versions 24.0, 23.0.3 and earlier are affected by an out-of-bounds read vulnerability that could lead to disclosure of sensitive memory. An attacker could leverage this vulnerability to bypass mitigations such as ASLR. Exploitation of this issue requires user interaction in that a victim must open a malicious file.\\n\\n'}}]"
     },
     "execution_count": 3,
     "metadata": {},
     "output_type": "execute_result"
    }
   ],
   "source": [
    "adobe_url = \"https://helpx.adobe.com/security/Home.html\"\n",
    "html_code = get_html_code(adobe_url)\n",
    "soup = html_to_soup(html_code)\n",
    "\n",
    "table = soup.find_all(\"table\")[0]\n",
    "\n",
    "final_data = []\n",
    "\n",
    "for link in table.find_all(\"a\"):\n",
    "  information_link = \"https://helpx.adobe.com\" + link['href']\n",
    "  product = link.text\n",
    "\n",
    "  html_code = get_html_code(information_link)\n",
    "  soup = html_to_soup(html_code)\n",
    "  clean_text = soup.text\n",
    "\n",
    "  CVEs = find_by_regex(clean_text, r\"CVE-\\d{4}-\\d{2,7}\")\n",
    "\n",
    "  \n",
    "\n",
    "  dictionary = {\n",
    "    \"id\": str(uuid.uuid4()),\n",
    "    \"href\": information_link,\n",
    "    \"product\": product,\n",
    "    \"cve\": {\n",
    "\n",
    "    }\n",
    "  }\n",
    "\n",
    "  for cve in CVEs:\n",
    "    description = enrich_cve(cve)\n",
    "    dictionary[\"cve\"][cve] = description\n",
    "\n",
    "  final_data.append(dictionary)\n",
    "\n",
    "final_data"
   ],
   "metadata": {
    "collapsed": false,
    "ExecuteTime": {
     "end_time": "2024-03-21T18:45:28.841681Z",
     "start_time": "2024-03-21T18:44:37.265689Z"
    }
   },
   "id": "6c6fd807baf0975b",
   "execution_count": 3
  },
  {
   "cell_type": "code",
   "outputs": [],
   "source": [],
   "metadata": {
    "collapsed": false
   },
   "id": "9ea6211c856c86a1"
  }
 ],
 "metadata": {
  "kernelspec": {
   "display_name": "Python 3",
   "language": "python",
   "name": "python3"
  },
  "language_info": {
   "codemirror_mode": {
    "name": "ipython",
    "version": 2
   },
   "file_extension": ".py",
   "mimetype": "text/x-python",
   "name": "python",
   "nbconvert_exporter": "python",
   "pygments_lexer": "ipython2",
   "version": "2.7.6"
  }
 },
 "nbformat": 4,
 "nbformat_minor": 5
}
