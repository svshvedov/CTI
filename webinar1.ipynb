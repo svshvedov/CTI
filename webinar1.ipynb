{
 "cells": [
  {
   "cell_type": "code",
   "execution_count": 1,
   "metadata": {},
   "outputs": [],
   "source": [
    "import uuid\n",
    "import re\n",
    "import json\n",
    "import requests\n",
    "from bs4 import BeautifulSoup"
   ]
  },
  {
   "cell_type": "code",
   "execution_count": 2,
   "metadata": {},
   "outputs": [],
   "source": [
    "# получаем html код страницы, если она доступна, иначе Error\n",
    "def get_html_code(url: str) -> str:\n",
    "    headers = {\n",
    "      'User-Agent': 'Mozilla/5.0 (Windows NT 10.0; Win64; x64) AppleWebKit/537.36 (KHTML, like Gecko) Chrome/117.0.0.0 Safari/537.36'\n",
    "    }\n",
    "    try:\n",
    "        req = requests.get(url, headers=headers)\n",
    "        # The HTTP 200 OK success status response code indicates that the request has succeeded.\n",
    "        if req.status_code == 200:\n",
    "            return req.text\n",
    "        else:\n",
    "            return \"Error\"\n",
    "        \n",
    "    except Exception as e:\n",
    "        print(e)\n",
    "        return \"Error\"\n",
    "\n",
    "# переводим html код в объект soup класса BeautifulSoup\n",
    "def html_to_soup(html: str) -> BeautifulSoup:\n",
    "    soup = BeautifulSoup(html, \"html.parser\")\n",
    "    return soup\n",
    "\n",
    "# вытаскивает из текста совпадения, используя регулярные выражения\n",
    "def find_by_regex(text: str, regular_expression: re.Pattern) -> list[str]:\n",
    "    matches = re.findall(regular_expression, text)\n",
    "    matches = list(set(matches))\n",
    "    return matches\n",
    "\n",
    "# обогащает CVE описанием с mitre.org\n",
    "def enrich_cve(cve: str) -> str:\n",
    "    try:\n",
    "        mitre_url = \"https://cve.mitre.org/cgi-bin/cvename.cgi?name=\"\n",
    "        cve_url = mitre_url + cve\n",
    "\n",
    "        html_code = get_html_code(cve_url)\n",
    "        soup = html_to_soup(html_code)\n",
    "\n",
    "        description = soup.find(\"th\", string=\"Description\")\n",
    "        description = description.find_next(\"td\", colspan=\"2\").text\n",
    "    except Exception as e:\n",
    "        print(e)\n",
    "        return \"Error\"\n",
    "\n",
    "    return description\n",
    "\n",
    "# записывает данные в json файл\n",
    "def write_to_json(filename: str, data: list[dict]):\n",
    "    with open(filename, 'w') as f:\n",
    "        json.dump(data,\n",
    "                  f,\n",
    "                  indent=4,\n",
    "                  ensure_ascii=True)\n",
    "\n",
    "# читает данные из json файла\n",
    "def read_from_json(filename: str):\n",
    "    with open(filename, 'r') as f:\n",
    "        data = json.load(f)\n",
    "    return data"
   ]
  },
  {
   "cell_type": "code",
   "execution_count": 3,
   "metadata": {},
   "outputs": [
    {
     "data": {
      "text/plain": [
       "[{'id': 'f6783f69-bb95-4f71-b4bf-99e2e2baa45b',\n",
       "  'href': 'https://helpx.adobe.com/security/products/connect/apsb23-33.html',\n",
       "  'product': 'APSB23-33\\xa0: Security update available for Adobe\\xa0Connect',\n",
       "  'cve': {'CVE-2023-29305': \"Adobe Connect versions 12.3 and earlier are affected by a reflected Cross-Site Scripting (XSS) vulnerability. If an attacker is able to convince a victim to visit a URL referencing a vulnerable page, malicious JavaScript content may be executed within the context of the victim's browser.\\n\\n\",\n",
       "   'CVE-2023-29306': \"Adobe Connect versions 12.3 and earlier are affected by a reflected Cross-Site Scripting (XSS) vulnerability. If an attacker is able to convince a victim to visit a URL referencing a vulnerable page, malicious JavaScript content may be executed within the context of the victim's browser.\\n\\n\"}},\n",
       " {'id': 'e1e55143-c254-4c9d-ba9d-99567cf72226',\n",
       "  'href': 'https://helpx.adobe.com/security/products/acrobat/apsb23-34.html',\n",
       "  'product': 'APSB23-34\\xa0: Security update available for Adobe\\xa0Acrobat and Reader',\n",
       "  'cve': {'CVE-2023-26369': 'Acrobat Reader versions 23.003.20284 (and earlier), 20.005.30516 (and earlier) and 20.005.30514 (and earlier) are affected by an out-of-bounds write vulnerability that could result in arbitrary code execution in the context of the current user. Exploitation of this issue requires user interaction in that a victim must open a malicious file.\\n\\n'}},\n",
       " {'id': '721eaefb-c5c5-4c39-acae-ee53a517b119',\n",
       "  'href': 'https://helpx.adobe.com/security/products/experience-manager/apsb23-43.html',\n",
       "  'product': 'APSB23-43\\xa0: Security update available for Adobe\\xa0Experience Manager',\n",
       "  'cve': {'CVE-2023-38214': \"Adobe Experience Manager versions 6.5.17 and earlier are affected by a reflected Cross-Site Scripting (XSS) vulnerability. If a low-privileged attacker is able to convince a victim to visit a URL referencing a vulnerable page, malicious JavaScript content may be executed within the context of the victim's browser.\\n\\n\",\n",
       "   'CVE-2023-25690': 'Some mod_proxy configurations on Apache HTTP Server versions 2.4.0 through 2.4.55 allow a HTTP Request Smuggling attack. Configurations are affected when mod_proxy is enabled along with some form of RewriteRule or ProxyPassMatch in which a non-specific pattern matches some portion of the user-supplied request-target (URL) data and is then re-inserted into the proxied request-target using variable substitution. For example, something like: RewriteEngine on RewriteRule \"^/here/(.*)\" \"http://example.com:8080/elsewhere?$1\"; [P] ProxyPassReverse /here/ http://example.com:8080/ Request splitting/smuggling could result in bypass of access controls in the proxy server, proxying unintended URLs to existing origin servers, and cache poisoning. Users are recommended to update to at least version 2.4.56 of Apache HTTP Server.\\n\\n',\n",
       "   'CVE-2023-38215': \"Adobe Experience Manager versions 6.5.17 and earlier are affected by a reflected Cross-Site Scripting (XSS) vulnerability. If a low-privileged attacker is able to convince a victim to visit a URL referencing a vulnerable page, malicious JavaScript content may be executed within the context of the victim's browser.\\n\\n\"}}]"
      ]
     },
     "execution_count": 3,
     "metadata": {},
     "output_type": "execute_result"
    }
   ],
   "source": [
    "adobe_url = \"https://helpx.adobe.com/security/Home.html\"\n",
    "html_code = get_html_code(adobe_url)\n",
    "soup = html_to_soup(html_code)\n",
    "\n",
    "table = soup.find_all(\"table\")[0]\n",
    "\n",
    "final_data = []\n",
    "\n",
    "for link in table.find_all(\"a\"):\n",
    "  information_link = \"https://helpx.adobe.com\" + link['href']\n",
    "  product = link.text\n",
    "\n",
    "  html_code = get_html_code(information_link)\n",
    "  soup = html_to_soup(html_code)\n",
    "  clean_text = soup.text\n",
    "\n",
    "  CVEs = find_by_regex(clean_text, r\"CVE-\\d{4}-\\d{2,7}\")\n",
    "\n",
    "  \n",
    "\n",
    "  dictionary = {\n",
    "    \"id\": str(uuid.uuid4()),\n",
    "    \"href\": information_link,\n",
    "    \"product\": product,\n",
    "    \"cve\": {\n",
    "\n",
    "    }\n",
    "  }\n",
    "\n",
    "  for cve in CVEs:\n",
    "    description = enrich_cve(cve)\n",
    "    dictionary[\"cve\"][cve] = description\n",
    "\n",
    "  final_data.append(dictionary)\n",
    "\n",
    "final_data"
   ]
  },
  {
   "cell_type": "code",
   "execution_count": 4,
   "metadata": {},
   "outputs": [],
   "source": [
    "write_to_json(\"cve.json\", final_data)"
   ]
  },
  {
   "cell_type": "code",
   "execution_count": 5,
   "metadata": {},
   "outputs": [
    {
     "data": {
      "text/plain": [
       "[{'id': 'f6783f69-bb95-4f71-b4bf-99e2e2baa45b',\n",
       "  'href': 'https://helpx.adobe.com/security/products/connect/apsb23-33.html',\n",
       "  'product': 'APSB23-33\\xa0: Security update available for Adobe\\xa0Connect',\n",
       "  'cve': {'CVE-2023-29305': \"Adobe Connect versions 12.3 and earlier are affected by a reflected Cross-Site Scripting (XSS) vulnerability. If an attacker is able to convince a victim to visit a URL referencing a vulnerable page, malicious JavaScript content may be executed within the context of the victim's browser.\\n\\n\",\n",
       "   'CVE-2023-29306': \"Adobe Connect versions 12.3 and earlier are affected by a reflected Cross-Site Scripting (XSS) vulnerability. If an attacker is able to convince a victim to visit a URL referencing a vulnerable page, malicious JavaScript content may be executed within the context of the victim's browser.\\n\\n\"}},\n",
       " {'id': 'e1e55143-c254-4c9d-ba9d-99567cf72226',\n",
       "  'href': 'https://helpx.adobe.com/security/products/acrobat/apsb23-34.html',\n",
       "  'product': 'APSB23-34\\xa0: Security update available for Adobe\\xa0Acrobat and Reader',\n",
       "  'cve': {'CVE-2023-26369': 'Acrobat Reader versions 23.003.20284 (and earlier), 20.005.30516 (and earlier) and 20.005.30514 (and earlier) are affected by an out-of-bounds write vulnerability that could result in arbitrary code execution in the context of the current user. Exploitation of this issue requires user interaction in that a victim must open a malicious file.\\n\\n'}},\n",
       " {'id': '721eaefb-c5c5-4c39-acae-ee53a517b119',\n",
       "  'href': 'https://helpx.adobe.com/security/products/experience-manager/apsb23-43.html',\n",
       "  'product': 'APSB23-43\\xa0: Security update available for Adobe\\xa0Experience Manager',\n",
       "  'cve': {'CVE-2023-38214': \"Adobe Experience Manager versions 6.5.17 and earlier are affected by a reflected Cross-Site Scripting (XSS) vulnerability. If a low-privileged attacker is able to convince a victim to visit a URL referencing a vulnerable page, malicious JavaScript content may be executed within the context of the victim's browser.\\n\\n\",\n",
       "   'CVE-2023-25690': 'Some mod_proxy configurations on Apache HTTP Server versions 2.4.0 through 2.4.55 allow a HTTP Request Smuggling attack. Configurations are affected when mod_proxy is enabled along with some form of RewriteRule or ProxyPassMatch in which a non-specific pattern matches some portion of the user-supplied request-target (URL) data and is then re-inserted into the proxied request-target using variable substitution. For example, something like: RewriteEngine on RewriteRule \"^/here/(.*)\" \"http://example.com:8080/elsewhere?$1\"; [P] ProxyPassReverse /here/ http://example.com:8080/ Request splitting/smuggling could result in bypass of access controls in the proxy server, proxying unintended URLs to existing origin servers, and cache poisoning. Users are recommended to update to at least version 2.4.56 of Apache HTTP Server.\\n\\n',\n",
       "   'CVE-2023-38215': \"Adobe Experience Manager versions 6.5.17 and earlier are affected by a reflected Cross-Site Scripting (XSS) vulnerability. If a low-privileged attacker is able to convince a victim to visit a URL referencing a vulnerable page, malicious JavaScript content may be executed within the context of the victim's browser.\\n\\n\"}}]"
      ]
     },
     "execution_count": 5,
     "metadata": {},
     "output_type": "execute_result"
    }
   ],
   "source": [
    "data = read_from_json(\"cve.json\")\n",
    "data"
   ]
  },
  {
   "cell_type": "code",
   "execution_count": 6,
   "metadata": {},
   "outputs": [
    {
     "data": {
      "text/plain": [
       "'Some mod_proxy configurations on Apache HTTP Server versions 2.4.0 through 2.4.55 allow a HTTP Request Smuggling attack. Configurations are affected when mod_proxy is enabled along with some form of RewriteRule or ProxyPassMatch in which a non-specific pattern matches some portion of the user-supplied request-target (URL) data and is then re-inserted into the proxied request-target using variable substitution. For example, something like: RewriteEngine on RewriteRule \"^/here/(.*)\" \"http://example.com:8080/elsewhere?$1\"; [P] ProxyPassReverse /here/ http://example.com:8080/ Request splitting/smuggling could result in bypass of access controls in the proxy server, proxying unintended URLs to existing origin servers, and cache poisoning. Users are recommended to update to at least version 2.4.56 of Apache HTTP Server.\\n\\n'"
      ]
     },
     "execution_count": 6,
     "metadata": {},
     "output_type": "execute_result"
    }
   ],
   "source": [
    "data[2].get(\"cve\").get('CVE-2023-25690')"
   ]
  },
  {
   "cell_type": "code",
   "execution_count": null,
   "metadata": {},
   "outputs": [],
   "source": []
  }
 ],
 "metadata": {
  "kernelspec": {
   "display_name": "Python 3",
   "language": "python",
   "name": "python3"
  },
  "language_info": {
   "codemirror_mode": {
    "name": "ipython",
    "version": 3
   },
   "file_extension": ".py",
   "mimetype": "text/x-python",
   "name": "python",
   "nbconvert_exporter": "python",
   "pygments_lexer": "ipython3",
   "version": "3.11.5"
  },
  "orig_nbformat": 4
 },
 "nbformat": 4,
 "nbformat_minor": 2
}
