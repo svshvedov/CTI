{
 "cells": [
  {
   "cell_type": "code",
   "execution_count": 40,
   "metadata": {},
   "outputs": [],
   "source": [
    "import uuid\n",
    "import re\n",
    "import json\n",
    "\n",
    "import requests\n",
    "from bs4 import BeautifulSoup"
   ]
  },
  {
   "cell_type": "code",
   "execution_count": 41,
   "metadata": {},
   "outputs": [],
   "source": [
    "# получаем html код страницы, если она доступна, иначе Error\n",
    "def get_html_code(url: str) -> str:\n",
    "    headers = {\n",
    "      'User-Agent': 'Mozilla/5.0 (Windows NT 10.0; Win64; x64) AppleWebKit/537.36 (KHTML, like Gecko) Chrome/91.0.4472.124 Safari/537.36'\n",
    "    }\n",
    "    try:\n",
    "        req = requests.get(url, headers=headers)\n",
    "        # The HTTP 200 OK success status response code indicates that the request has succeeded.\n",
    "        if req.status_code == 200:\n",
    "            return req.text\n",
    "        else:\n",
    "            return \"Error\"\n",
    "        \n",
    "    except Exception as e:\n",
    "        print(e)\n",
    "        return \"Error\"\n",
    "\n",
    "# переводим html код в объект soup класса BeautifulSoup\n",
    "def html_to_soup(html: str) -> BeautifulSoup:\n",
    "    soup = BeautifulSoup(html, \"html.parser\")\n",
    "    return soup\n",
    "\n",
    "# вытаскивает из текста совпадения, используя регулярные выражения\n",
    "def find_by_regex(text: str, regular_expression: re.Pattern) -> list[str]:\n",
    "    matches = re.findall(regular_expression, text)\n",
    "    matches = list(set(matches))\n",
    "    return matches"
   ]
  },
  {
   "cell_type": "code",
   "execution_count": 42,
   "metadata": {},
   "outputs": [],
   "source": [
    "report_url = 'https://thedfirreport.com/2023/05/22/icedid-macro-ends-in-nokoyawa-ransomware'\n",
    "html = get_html_code(report_url)\n",
    "soup = html_to_soup(html)"
   ]
  },
  {
   "cell_type": "code",
   "execution_count": 43,
   "metadata": {},
   "outputs": [
    {
     "data": {
      "text/plain": [
       "(['simipimi[.]com',\n",
       "  'curabiebarristie[.]com',\n",
       "  'dropmefiles[.]com',\n",
       "  'belliecow[.]wiki',\n",
       "  'aicsoftware[.]com',\n",
       "  'kicknocisd[.]com',\n",
       "  'stayersa[.]art',\n",
       "  'guaracheza[.]pics',\n",
       "  'iconnectgs[.]com'],\n",
       " ['23.29.115[.]152',\n",
       "  '5.8.18[.]242',\n",
       "  '45.66.248[.]119',\n",
       "  '50.3.132[.]232',\n",
       "  '159.65.169[.]200',\n",
       "  '137.74.104[.]108'])"
      ]
     },
     "execution_count": 43,
     "metadata": {},
     "output_type": "execute_result"
    }
   ],
   "source": [
    "domain_regex = r'\\w+\\[\\.\\][a-z]{1,6}'\n",
    "ipv4_regex = r'\\d{1,3}\\.\\d{1,3}\\.\\d{1,3}\\[\\.\\]\\d{1,3}'\n",
    "\n",
    "domains = find_by_regex(soup.text, domain_regex)\n",
    "ipv4 = find_by_regex(soup.text, ipv4_regex)\n",
    "\n",
    "domains, ipv4"
   ]
  },
  {
   "cell_type": "code",
   "execution_count": 49,
   "metadata": {},
   "outputs": [],
   "source": [
    "rst_threat_apikey = \"здесь ваш апи ключ от rst THREAT feed\"\n",
    "\n",
    "from functools import lru_cache\n",
    "\n",
    "@lru_cache\n",
    "def ioc_lookup(ioc: str):\n",
    "\n",
    "  if \"[.]\" in ioc:\n",
    "    ioc = ioc.replace(\"[.]\", \".\")\n",
    "\n",
    "  headers = {\n",
    "      'accept': 'application/json',\n",
    "      'x-api-key': rst_threat_apikey,\n",
    "  }\n",
    "\n",
    "  query_params = {\n",
    "      'value': ioc,\n",
    "  }\n",
    "\n",
    "  try:\n",
    "    response = requests.get('https://api.rstcloud.net/v1/ioc', headers=headers, params=query_params)\n",
    "    return response.json()\n",
    "    \n",
    "  except Exception as e:\n",
    "    return e"
   ]
  },
  {
   "cell_type": "code",
   "execution_count": 61,
   "metadata": {},
   "outputs": [],
   "source": [
    "response = ioc_lookup(\"45.66.248[.]119\")\n",
    "\n",
    "description = response.get(\"description\")\n",
    "report_source = response.get(\"src\").get(\"report\")\n",
    "ioc_value = response.get(\"ioc_value\")\n",
    "ioc_type = response.get(\"ioc_type\")\n",
    "tag = description.split('.')[0].split(\": \")[-1]\n",
    "related_threat = description.split(\".\")[1].split(\": \")[-1]\n"
   ]
  },
  {
   "cell_type": "code",
   "execution_count": 62,
   "metadata": {},
   "outputs": [],
   "source": [
    "dict_data = {\n",
    "  \"ioc\": ioc_value,\n",
    "  \"tag\": tag,\n",
    "  \"related_threat\": related_threat,\n",
    "  \"report_source\": report_source,\n",
    "  \"ioc_type\": ioc_type\n",
    "}"
   ]
  },
  {
   "cell_type": "code",
   "execution_count": 63,
   "metadata": {},
   "outputs": [],
   "source": [
    "def get_ioc_data(ioc: str) -> dict:\n",
    "  #потом ставим try except\n",
    "  try:\n",
    "    response = ioc_lookup(ioc)\n",
    "    report_source = response.get(\"src\").get(\"report\")\n",
    "    tag = description.split(\".\")[0].split(\": \")[-1]\n",
    "    related_threat = description.split(\".\")[1].split(\": \")[-1]\n",
    "    ioc_type = response.get(\"ioc_type\")\n",
    "\n",
    "    dict_data = {\n",
    "      \"ioc\": ioc,\n",
    "      \"tag\": tag,\n",
    "      \"related_threat\": related_threat,\n",
    "      \"report_source\": report_source,\n",
    "      \"ioc_type\": ioc_type\n",
    "    }\n",
    "\n",
    "    # return dict_data\n",
    "  \n",
    "  except Exception as e:\n",
    "    dict_data = {\n",
    "      \"ioc\": ioc,\n",
    "      \"tag\": None,\n",
    "      \"related_threat\": None,\n",
    "      \"report_source\": None,\n",
    "      \"ioc_type\": None\n",
    "    }\n",
    "\n",
    "  return dict_data"
   ]
  },
  {
   "cell_type": "code",
   "execution_count": 65,
   "metadata": {},
   "outputs": [
    {
     "data": {
      "text/plain": [
       "{'ioc': 'simipimi[.]com',\n",
       " 'tag': 'ransomware',\n",
       " 'related_threat': 'icedid, nokoyawa',\n",
       " 'report_source': 'https://github.com/stamparm/maltrail',\n",
       " 'ioc_type': 'domain'}"
      ]
     },
     "execution_count": 65,
     "metadata": {},
     "output_type": "execute_result"
    }
   ],
   "source": [
    "get_ioc_data(\"simipimi[.]com\")"
   ]
  },
  {
   "cell_type": "code",
   "execution_count": 66,
   "metadata": {},
   "outputs": [],
   "source": [
    "full_data = []\n",
    "\n",
    "for domain in domains:\n",
    "  data = get_ioc_data(domain)\n",
    "  # print(data)\n",
    "  full_data.append(data)\n",
    "\n",
    "for ip in ipv4:\n",
    "  data = get_ioc_data(ip)\n",
    "  # print(data)\n",
    "  full_data.append(data)"
   ]
  },
  {
   "cell_type": "code",
   "execution_count": 67,
   "metadata": {},
   "outputs": [
    {
     "data": {
      "text/plain": [
       "[{'ioc': 'simipimi[.]com',\n",
       "  'tag': 'ransomware',\n",
       "  'related_threat': 'icedid, nokoyawa',\n",
       "  'report_source': 'https://github.com/stamparm/maltrail',\n",
       "  'ioc_type': 'domain'},\n",
       " {'ioc': 'curabiebarristie[.]com',\n",
       "  'tag': 'ransomware',\n",
       "  'related_threat': 'icedid, nokoyawa',\n",
       "  'report_source': 'https://github.com/stamparm/maltrail',\n",
       "  'ioc_type': 'domain'},\n",
       " {'ioc': 'dropmefiles[.]com',\n",
       "  'tag': 'ransomware',\n",
       "  'related_threat': 'icedid, nokoyawa',\n",
       "  'report_source': 'https://thedfirreport.com/2023/05/22/icedid-macro-ends-in-nokoyawa-ransomware',\n",
       "  'ioc_type': 'domain'},\n",
       " {'ioc': 'belliecow[.]wiki',\n",
       "  'tag': 'ransomware',\n",
       "  'related_threat': 'icedid, nokoyawa',\n",
       "  'report_source': 'https://github.com/stamparm/maltrail',\n",
       "  'ioc_type': 'domain'},\n",
       " {'ioc': 'aicsoftware[.]com',\n",
       "  'tag': 'ransomware',\n",
       "  'related_threat': 'icedid, nokoyawa',\n",
       "  'report_source': 'https://github.com/stamparm/maltrail',\n",
       "  'ioc_type': 'domain'},\n",
       " {'ioc': 'kicknocisd[.]com',\n",
       "  'tag': 'ransomware',\n",
       "  'related_threat': 'icedid, nokoyawa',\n",
       "  'report_source': 'https://github.com/stamparm/maltrail',\n",
       "  'ioc_type': 'domain'},\n",
       " {'ioc': 'stayersa[.]art',\n",
       "  'tag': 'ransomware',\n",
       "  'related_threat': 'icedid, nokoyawa',\n",
       "  'report_source': 'https://github.com/stamparm/maltrail',\n",
       "  'ioc_type': 'domain'},\n",
       " {'ioc': 'guaracheza[.]pics',\n",
       "  'tag': 'ransomware',\n",
       "  'related_threat': 'icedid, nokoyawa',\n",
       "  'report_source': 'https://github.com/stamparm/maltrail',\n",
       "  'ioc_type': 'domain'},\n",
       " {'ioc': 'iconnectgs[.]com',\n",
       "  'tag': 'ransomware',\n",
       "  'related_threat': 'icedid, nokoyawa',\n",
       "  'report_source': 'https://github.com/stamparm/maltrail',\n",
       "  'ioc_type': 'domain'},\n",
       " {'ioc': '23.29.115[.]152',\n",
       "  'tag': 'ransomware',\n",
       "  'related_threat': 'icedid, nokoyawa',\n",
       "  'report_source': 'https://github.com/stamparm/maltrail',\n",
       "  'ioc_type': 'ipv4'},\n",
       " {'ioc': '5.8.18[.]242',\n",
       "  'tag': 'ransomware',\n",
       "  'related_threat': 'icedid, nokoyawa',\n",
       "  'report_source': 'https://1275.ru/ioc/2511/nokoyawa-ransomware-iocs-part-3/?from=rss',\n",
       "  'ioc_type': 'ipv4'},\n",
       " {'ioc': '45.66.248[.]119',\n",
       "  'tag': 'ransomware',\n",
       "  'related_threat': 'icedid, nokoyawa',\n",
       "  'report_source': 'otx.alienvault.com',\n",
       "  'ioc_type': 'ipv4'},\n",
       " {'ioc': '50.3.132[.]232',\n",
       "  'tag': 'ransomware',\n",
       "  'related_threat': 'icedid, nokoyawa',\n",
       "  'report_source': 'https://twitter.com/drb_ra/status/1703337914514457082,https://github.com/stamparm/maltrail',\n",
       "  'ioc_type': 'ipv4'},\n",
       " {'ioc': '159.65.169[.]200',\n",
       "  'tag': 'ransomware',\n",
       "  'related_threat': 'icedid, nokoyawa',\n",
       "  'report_source': 'https://1275.ru/ioc/2110/icedid-trojan-iocs/?from=rss',\n",
       "  'ioc_type': 'ipv4'},\n",
       " {'ioc': '137.74.104[.]108',\n",
       "  'tag': 'ransomware',\n",
       "  'related_threat': 'icedid, nokoyawa',\n",
       "  'report_source': 'https://github.com/stamparm/maltrail',\n",
       "  'ioc_type': 'ipv4'}]"
      ]
     },
     "execution_count": 67,
     "metadata": {},
     "output_type": "execute_result"
    }
   ],
   "source": [
    "full_data"
   ]
  },
  {
   "cell_type": "code",
   "execution_count": 68,
   "metadata": {},
   "outputs": [],
   "source": [
    "def write_to_json(filename: str, data: list[dict]):\n",
    "    with open(filename, 'w') as f:\n",
    "        json.dump(data,\n",
    "                  f,\n",
    "                  indent=4,\n",
    "                  ensure_ascii=True)"
   ]
  },
  {
   "cell_type": "code",
   "execution_count": 70,
   "metadata": {},
   "outputs": [],
   "source": [
    "write_to_json(\"ioc.json\", full_data)"
   ]
  },
  {
   "cell_type": "code",
   "execution_count": null,
   "metadata": {},
   "outputs": [],
   "source": []
  }
 ],
 "metadata": {
  "kernelspec": {
   "display_name": "Python 3",
   "language": "python",
   "name": "python3"
  },
  "language_info": {
   "codemirror_mode": {
    "name": "ipython",
    "version": 3
   },
   "file_extension": ".py",
   "mimetype": "text/x-python",
   "name": "python",
   "nbconvert_exporter": "python",
   "pygments_lexer": "ipython3",
   "version": "3.11.5"
  },
  "orig_nbformat": 4
 },
 "nbformat": 4,
 "nbformat_minor": 2
}
