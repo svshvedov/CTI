{
 "cells": [
  {
   "cell_type": "code",
   "execution_count": 1,
   "metadata": {
    "ExecuteTime": {
     "end_time": "2024-03-22T15:54:28.487608Z",
     "start_time": "2024-03-22T15:54:28.314050Z"
    }
   },
   "outputs": [],
   "source": [
    "import uuid\n",
    "import re\n",
    "import json\n",
    "\n",
    "import requests\n",
    "from bs4 import BeautifulSoup"
   ]
  },
  {
   "cell_type": "code",
   "execution_count": 2,
   "metadata": {
    "ExecuteTime": {
     "end_time": "2024-03-22T15:54:32.697794Z",
     "start_time": "2024-03-22T15:54:32.691212Z"
    }
   },
   "outputs": [],
   "source": [
    "# получаем html код страницы, если она доступна, иначе Error\n",
    "def get_html_code(url: str) -> str:\n",
    "    headers = {\n",
    "      'User-Agent': 'Mozilla/5.0 (Windows NT 10.0; Win64; x64) AppleWebKit/537.36 (KHTML, like Gecko) Chrome/91.0.4472.124 Safari/537.36'\n",
    "    }\n",
    "    try:\n",
    "        req = requests.get(url, headers=headers)\n",
    "        # The HTTP 200 OK success status response code indicates that the request has succeeded.\n",
    "        if req.status_code == 200:\n",
    "            return req.text\n",
    "        else:\n",
    "            return \"Error\"\n",
    "        \n",
    "    except Exception as e:\n",
    "        print(e)\n",
    "        return \"Error\"\n",
    "\n",
    "# переводим html код в объект soup класса BeautifulSoup\n",
    "def html_to_soup(html: str) -> BeautifulSoup:\n",
    "    soup = BeautifulSoup(html, \"html.parser\")\n",
    "    return soup\n",
    "\n",
    "# вытаскивает из текста совпадения, используя регулярные выражения\n",
    "def find_by_regex(text: str, regular_expression: re.Pattern) -> list[str]:\n",
    "    matches = re.findall(regular_expression, text)\n",
    "    matches = list(set(matches))\n",
    "    return matches"
   ]
  },
  {
   "cell_type": "code",
   "execution_count": 3,
   "metadata": {
    "ExecuteTime": {
     "end_time": "2024-03-22T15:54:43.619067Z",
     "start_time": "2024-03-22T15:54:41.579367Z"
    }
   },
   "outputs": [],
   "source": [
    "report_url = 'https://thedfirreport.com/2023/05/22/icedid-macro-ends-in-nokoyawa-ransomware'\n",
    "html = get_html_code(report_url)\n",
    "soup = html_to_soup(html)"
   ]
  },
  {
   "cell_type": "code",
   "execution_count": 4,
   "metadata": {
    "ExecuteTime": {
     "end_time": "2024-03-22T15:55:16.797591Z",
     "start_time": "2024-03-22T15:55:16.776787Z"
    }
   },
   "outputs": [
    {
     "data": {
      "text/plain": "(['guaracheza[.]pics',\n  'aicsoftware[.]com',\n  'belliecow[.]wiki',\n  'iconnectgs[.]com',\n  'curabiebarristie[.]com',\n  'dropmefiles[.]com',\n  'kicknocisd[.]com',\n  'stayersa[.]art',\n  'simipimi[.]com'],\n ['159.65.169[.]200',\n  '50.3.132[.]232',\n  '137.74.104[.]108',\n  '45.66.248[.]119',\n  '23.29.115[.]152',\n  '5.8.18[.]242'])"
     },
     "execution_count": 4,
     "metadata": {},
     "output_type": "execute_result"
    }
   ],
   "source": [
    "domain_regex = r'\\w+\\[\\.\\][a-z]{1,6}'\n",
    "ipv4_regex = r'\\d{1,3}\\.\\d{1,3}\\.\\d{1,3}\\[\\.\\]\\d{1,3}'\n",
    "\n",
    "domains = find_by_regex(soup.text, domain_regex)\n",
    "ipv4 = find_by_regex(soup.text, ipv4_regex)\n",
    "\n",
    "domains, ipv4"
   ]
  },
  {
   "cell_type": "code",
   "execution_count": 5,
   "metadata": {
    "ExecuteTime": {
     "end_time": "2024-03-22T15:55:23.567404Z",
     "start_time": "2024-03-22T15:55:23.562224Z"
    }
   },
   "outputs": [],
   "source": [
    "rst_threat_apikey = \"wzsGdJ9nstr74EVdlAaaCjPP9vZWv0so5GLk2wwbt1P0yGLv1jWMzg\"\n",
    "\n",
    "from functools import lru_cache\n",
    "\n",
    "@lru_cache\n",
    "def ioc_lookup(ioc: str):\n",
    "\n",
    "  if \"[.]\" in ioc:\n",
    "    ioc = ioc.replace(\"[.]\", \".\")\n",
    "\n",
    "  headers = {\n",
    "      'accept': 'application/json',\n",
    "      'x-api-key': rst_threat_apikey,\n",
    "  }\n",
    "\n",
    "  query_params = {\n",
    "      'value': ioc,\n",
    "  }\n",
    "\n",
    "  try:\n",
    "    response = requests.get('https://api.rstcloud.net/v1/ioc', headers=headers, params=query_params)\n",
    "    return response.json()\n",
    "    \n",
    "  except Exception as e:\n",
    "    return e"
   ]
  },
  {
   "cell_type": "code",
   "execution_count": 6,
   "metadata": {
    "ExecuteTime": {
     "end_time": "2024-03-22T15:56:27.408192Z",
     "start_time": "2024-03-22T15:56:25.660396Z"
    }
   },
   "outputs": [],
   "source": [
    "response = ioc_lookup(\"45.66.248[.]119\")\n",
    "\n",
    "description = response.get(\"description\")\n",
    "report_source = response.get(\"src\").get(\"report\")\n",
    "ioc_value = response.get(\"ioc_value\")\n",
    "ioc_type = response.get(\"ioc_type\")\n",
    "tag = description.split('.')[0].split(\": \")[-1]\n",
    "related_threat = description.split(\".\")[1].split(\": \")[-1]\n"
   ]
  },
  {
   "cell_type": "code",
   "execution_count": 7,
   "metadata": {
    "ExecuteTime": {
     "end_time": "2024-03-22T15:56:28.943262Z",
     "start_time": "2024-03-22T15:56:28.939237Z"
    }
   },
   "outputs": [],
   "source": [
    "dict_data = {\n",
    "  \"ioc\": ioc_value,\n",
    "  \"tag\": tag,\n",
    "  \"related_threat\": related_threat,\n",
    "  \"report_source\": report_source,\n",
    "  \"ioc_type\": ioc_type\n",
    "}"
   ]
  },
  {
   "cell_type": "code",
   "execution_count": 8,
   "metadata": {
    "ExecuteTime": {
     "end_time": "2024-03-22T15:56:34.315059Z",
     "start_time": "2024-03-22T15:56:34.309081Z"
    }
   },
   "outputs": [],
   "source": [
    "def get_ioc_data(ioc: str) -> dict:\n",
    "  #потом ставим try except\n",
    "  try:\n",
    "    response = ioc_lookup(ioc)\n",
    "    report_source = response.get(\"src\").get(\"report\")\n",
    "    tag = description.split(\".\")[0].split(\": \")[-1]\n",
    "    related_threat = description.split(\".\")[1].split(\": \")[-1]\n",
    "    ioc_type = response.get(\"ioc_type\")\n",
    "\n",
    "    dict_data = {\n",
    "      \"ioc\": ioc,\n",
    "      \"tag\": tag,\n",
    "      \"related_threat\": related_threat,\n",
    "      \"report_source\": report_source,\n",
    "      \"ioc_type\": ioc_type\n",
    "    }\n",
    "\n",
    "    # return dict_data\n",
    "  \n",
    "  except Exception as e:\n",
    "    dict_data = {\n",
    "      \"ioc\": ioc,\n",
    "      \"tag\": None,\n",
    "      \"related_threat\": None,\n",
    "      \"report_source\": None,\n",
    "      \"ioc_type\": None\n",
    "    }\n",
    "\n",
    "  return dict_data"
   ]
  },
  {
   "cell_type": "code",
   "execution_count": 9,
   "metadata": {
    "ExecuteTime": {
     "end_time": "2024-03-22T15:56:37.706072Z",
     "start_time": "2024-03-22T15:56:36.428344Z"
    }
   },
   "outputs": [
    {
     "data": {
      "text/plain": "{'ioc': 'simipimi[.]com',\n 'tag': 'ransomware',\n 'related_threat': 'icedid, nokoyawa',\n 'report_source': 'https://github.com/stamparm/maltrail',\n 'ioc_type': 'domain'}"
     },
     "execution_count": 9,
     "metadata": {},
     "output_type": "execute_result"
    }
   ],
   "source": [
    "get_ioc_data(\"simipimi[.]com\")"
   ]
  },
  {
   "cell_type": "code",
   "execution_count": 10,
   "metadata": {
    "ExecuteTime": {
     "end_time": "2024-03-22T15:57:28.692147Z",
     "start_time": "2024-03-22T15:57:18.530266Z"
    }
   },
   "outputs": [],
   "source": [
    "full_data = []\n",
    "\n",
    "for domain in domains:\n",
    "  data = get_ioc_data(domain)\n",
    "  # print(data)\n",
    "  full_data.append(data)\n",
    "\n",
    "for ip in ipv4:\n",
    "  data = get_ioc_data(ip)\n",
    "  # print(data)\n",
    "  full_data.append(data)"
   ]
  },
  {
   "cell_type": "code",
   "execution_count": 11,
   "metadata": {
    "ExecuteTime": {
     "end_time": "2024-03-22T15:57:30.872398Z",
     "start_time": "2024-03-22T15:57:30.865589Z"
    }
   },
   "outputs": [
    {
     "data": {
      "text/plain": "[{'ioc': 'guaracheza[.]pics',\n  'tag': 'ransomware',\n  'related_threat': 'icedid, nokoyawa',\n  'report_source': 'https://github.com/stamparm/maltrail',\n  'ioc_type': 'domain'},\n {'ioc': 'aicsoftware[.]com',\n  'tag': 'ransomware',\n  'related_threat': 'icedid, nokoyawa',\n  'report_source': 'https://github.com/stamparm/maltrail',\n  'ioc_type': 'domain'},\n {'ioc': 'belliecow[.]wiki',\n  'tag': 'ransomware',\n  'related_threat': 'icedid, nokoyawa',\n  'report_source': 'https://github.com/stamparm/maltrail',\n  'ioc_type': 'domain'},\n {'ioc': 'iconnectgs[.]com',\n  'tag': 'ransomware',\n  'related_threat': 'icedid, nokoyawa',\n  'report_source': 'https://github.com/stamparm/maltrail',\n  'ioc_type': 'domain'},\n {'ioc': 'curabiebarristie[.]com',\n  'tag': 'ransomware',\n  'related_threat': 'icedid, nokoyawa',\n  'report_source': 'https://github.com/stamparm/maltrail',\n  'ioc_type': 'domain'},\n {'ioc': 'dropmefiles[.]com',\n  'tag': 'ransomware',\n  'related_threat': 'icedid, nokoyawa',\n  'report_source': 'https://thedfirreport.com/2023/05/22/icedid-macro-ends-in-nokoyawa-ransomware',\n  'ioc_type': 'domain'},\n {'ioc': 'kicknocisd[.]com',\n  'tag': 'ransomware',\n  'related_threat': 'icedid, nokoyawa',\n  'report_source': 'https://github.com/stamparm/maltrail',\n  'ioc_type': 'domain'},\n {'ioc': 'stayersa[.]art',\n  'tag': 'ransomware',\n  'related_threat': 'icedid, nokoyawa',\n  'report_source': 'https://github.com/stamparm/maltrail',\n  'ioc_type': 'domain'},\n {'ioc': 'simipimi[.]com',\n  'tag': 'ransomware',\n  'related_threat': 'icedid, nokoyawa',\n  'report_source': 'https://github.com/stamparm/maltrail',\n  'ioc_type': 'domain'},\n {'ioc': '159.65.169[.]200',\n  'tag': 'ransomware',\n  'related_threat': 'icedid, nokoyawa',\n  'report_source': 'https://1275.ru/ioc/2110/icedid-trojan-iocs/?from=rss',\n  'ioc_type': 'ipv4'},\n {'ioc': '50.3.132[.]232',\n  'tag': 'ransomware',\n  'related_threat': 'icedid, nokoyawa',\n  'report_source': 'https://github.com/stamparm/maltrail',\n  'ioc_type': 'ipv4'},\n {'ioc': '137.74.104[.]108',\n  'tag': 'ransomware',\n  'related_threat': 'icedid, nokoyawa',\n  'report_source': 'https://github.com/stamparm/maltrail',\n  'ioc_type': 'ipv4'},\n {'ioc': '45.66.248[.]119',\n  'tag': 'ransomware',\n  'related_threat': 'icedid, nokoyawa',\n  'report_source': 'otx.alienvault.com',\n  'ioc_type': 'ipv4'},\n {'ioc': '23.29.115[.]152',\n  'tag': 'ransomware',\n  'related_threat': 'icedid, nokoyawa',\n  'report_source': 'https://github.com/stamparm/maltrail',\n  'ioc_type': 'ipv4'},\n {'ioc': '5.8.18[.]242',\n  'tag': 'ransomware',\n  'related_threat': 'icedid, nokoyawa',\n  'report_source': 'https://github.com/stamparm/maltrail',\n  'ioc_type': 'ipv4'}]"
     },
     "execution_count": 11,
     "metadata": {},
     "output_type": "execute_result"
    }
   ],
   "source": [
    "full_data"
   ]
  },
  {
   "cell_type": "code",
   "execution_count": 12,
   "metadata": {
    "ExecuteTime": {
     "end_time": "2024-03-22T15:57:35.131493Z",
     "start_time": "2024-03-22T15:57:35.126435Z"
    }
   },
   "outputs": [],
   "source": [
    "def write_to_json(filename: str, data: list[dict]):\n",
    "    with open(filename, 'w') as f:\n",
    "        json.dump(data,\n",
    "                  f,\n",
    "                  indent=4,\n",
    "                  ensure_ascii=True)"
   ]
  },
  {
   "cell_type": "code",
   "execution_count": 13,
   "metadata": {
    "ExecuteTime": {
     "end_time": "2024-03-22T15:57:37.680665Z",
     "start_time": "2024-03-22T15:57:37.675803Z"
    }
   },
   "outputs": [],
   "source": [
    "write_to_json(\"ioc.json\", full_data)"
   ]
  },
  {
   "cell_type": "code",
   "execution_count": null,
   "metadata": {},
   "outputs": [],
   "source": []
  }
 ],
 "metadata": {
  "kernelspec": {
   "display_name": "Python 3",
   "language": "python",
   "name": "python3"
  },
  "language_info": {
   "codemirror_mode": {
    "name": "ipython",
    "version": 3
   },
   "file_extension": ".py",
   "mimetype": "text/x-python",
   "name": "python",
   "nbconvert_exporter": "python",
   "pygments_lexer": "ipython3",
   "version": "3.11.5"
  },
  "orig_nbformat": 4
 },
 "nbformat": 4,
 "nbformat_minor": 2
}
